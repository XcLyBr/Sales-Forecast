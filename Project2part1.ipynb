{
  "nbformat": 4,
  "nbformat_minor": 0,
  "metadata": {
    "colab": {
      "name": "Project2part1.ipynb",
      "provenance": [],
      "mount_file_id": "10oxLydHxjQl3Bp7Eez7G4qnB08R0wN7y",
      "authorship_tag": "ABX9TyPp85+MSHHedCP6malX9jd0",
      "include_colab_link": true
    },
    "kernelspec": {
      "name": "python3",
      "display_name": "Python 3"
    },
    "language_info": {
      "name": "python"
    }
  },
  "cells": [
    {
      "cell_type": "markdown",
      "metadata": {
        "id": "view-in-github",
        "colab_type": "text"
      },
      "source": [
        "<a href=\"https://colab.research.google.com/github/XcLyBr/Sales-Forecast/blob/main/Project2part1.ipynb\" target=\"_parent\"><img src=\"https://colab.research.google.com/assets/colab-badge.svg\" alt=\"Open In Colab\"/></a>"
      ]
    },
    {
      "cell_type": "markdown",
      "source": [
        "Jose Antonio Villegas"
      ],
      "metadata": {
        "id": "Kymr6QM5Oykn"
      }
    },
    {
      "cell_type": "markdown",
      "source": [
        "Project 2 Part 1"
      ],
      "metadata": {
        "id": "b524hXWoO1zy"
      }
    },
    {
      "cell_type": "markdown",
      "source": [
        "# ***DATASET 1***"
      ],
      "metadata": {
        "id": "5gZJQS1UVGH8"
      }
    },
    {
      "cell_type": "code",
      "source": [
        "import pandas as pd\n"
      ],
      "metadata": {
        "id": "7ApWz7s3P6Hc"
      },
      "execution_count": null,
      "outputs": []
    },
    {
      "cell_type": "code",
      "source": [
        "path = '/content/credit_data.csv'\n",
        "df = pd.read_csv(path)\n",
        "df.head()"
      ],
      "metadata": {
        "colab": {
          "base_uri": "https://localhost:8080/",
          "height": 250
        },
        "id": "N0_dn-WAP8Rb",
        "outputId": "6c45b8bd-bf06-466a-b9c2-95ff33b88590"
      },
      "execution_count": null,
      "outputs": [
        {
          "output_type": "execute_result",
          "data": {
            "text/plain": [
              "   CARDHLDR  DEFAULT        AGE  ACADMOS  ADEPCNT  MAJORDRG  MINORDRG  \\\n",
              "0         0        0  27.250000        4        0         0         0   \n",
              "1         0        0  40.833332      111        3         0         0   \n",
              "2         1        0  37.666668       54        3         0         0   \n",
              "3         1        0  42.500000       60        3         0         0   \n",
              "4         1        0  21.333334        8        0         0         0   \n",
              "\n",
              "   OWNRENT       INCOME  SELFEMPL   INCPER   EXP_INC     SPENDING   LOGSPEND   \n",
              "0        0  1200.000000         0  18000.0  0.000667                           \n",
              "1        1  4000.000000         0  13500.0  0.000222                           \n",
              "2        1  3666.666667         0  11300.0  0.033270  121.9896773  4.8039364   \n",
              "3        1  2000.000000         0  17250.0  0.048427   96.8536213  4.5732008   \n",
              "4        0  2916.666667         0  35000.0  0.016523   48.1916700  3.8751862   "
            ],
            "text/html": [
              "\n",
              "  <div id=\"df-07310f8d-a30a-474c-a1b7-342490bfcd31\">\n",
              "    <div class=\"colab-df-container\">\n",
              "      <div>\n",
              "<style scoped>\n",
              "    .dataframe tbody tr th:only-of-type {\n",
              "        vertical-align: middle;\n",
              "    }\n",
              "\n",
              "    .dataframe tbody tr th {\n",
              "        vertical-align: top;\n",
              "    }\n",
              "\n",
              "    .dataframe thead th {\n",
              "        text-align: right;\n",
              "    }\n",
              "</style>\n",
              "<table border=\"1\" class=\"dataframe\">\n",
              "  <thead>\n",
              "    <tr style=\"text-align: right;\">\n",
              "      <th></th>\n",
              "      <th>CARDHLDR</th>\n",
              "      <th>DEFAULT</th>\n",
              "      <th>AGE</th>\n",
              "      <th>ACADMOS</th>\n",
              "      <th>ADEPCNT</th>\n",
              "      <th>MAJORDRG</th>\n",
              "      <th>MINORDRG</th>\n",
              "      <th>OWNRENT</th>\n",
              "      <th>INCOME</th>\n",
              "      <th>SELFEMPL</th>\n",
              "      <th>INCPER</th>\n",
              "      <th>EXP_INC</th>\n",
              "      <th>SPENDING</th>\n",
              "      <th>LOGSPEND</th>\n",
              "    </tr>\n",
              "  </thead>\n",
              "  <tbody>\n",
              "    <tr>\n",
              "      <th>0</th>\n",
              "      <td>0</td>\n",
              "      <td>0</td>\n",
              "      <td>27.250000</td>\n",
              "      <td>4</td>\n",
              "      <td>0</td>\n",
              "      <td>0</td>\n",
              "      <td>0</td>\n",
              "      <td>0</td>\n",
              "      <td>1200.000000</td>\n",
              "      <td>0</td>\n",
              "      <td>18000.0</td>\n",
              "      <td>0.000667</td>\n",
              "      <td></td>\n",
              "      <td></td>\n",
              "    </tr>\n",
              "    <tr>\n",
              "      <th>1</th>\n",
              "      <td>0</td>\n",
              "      <td>0</td>\n",
              "      <td>40.833332</td>\n",
              "      <td>111</td>\n",
              "      <td>3</td>\n",
              "      <td>0</td>\n",
              "      <td>0</td>\n",
              "      <td>1</td>\n",
              "      <td>4000.000000</td>\n",
              "      <td>0</td>\n",
              "      <td>13500.0</td>\n",
              "      <td>0.000222</td>\n",
              "      <td></td>\n",
              "      <td></td>\n",
              "    </tr>\n",
              "    <tr>\n",
              "      <th>2</th>\n",
              "      <td>1</td>\n",
              "      <td>0</td>\n",
              "      <td>37.666668</td>\n",
              "      <td>54</td>\n",
              "      <td>3</td>\n",
              "      <td>0</td>\n",
              "      <td>0</td>\n",
              "      <td>1</td>\n",
              "      <td>3666.666667</td>\n",
              "      <td>0</td>\n",
              "      <td>11300.0</td>\n",
              "      <td>0.033270</td>\n",
              "      <td>121.9896773</td>\n",
              "      <td>4.8039364</td>\n",
              "    </tr>\n",
              "    <tr>\n",
              "      <th>3</th>\n",
              "      <td>1</td>\n",
              "      <td>0</td>\n",
              "      <td>42.500000</td>\n",
              "      <td>60</td>\n",
              "      <td>3</td>\n",
              "      <td>0</td>\n",
              "      <td>0</td>\n",
              "      <td>1</td>\n",
              "      <td>2000.000000</td>\n",
              "      <td>0</td>\n",
              "      <td>17250.0</td>\n",
              "      <td>0.048427</td>\n",
              "      <td>96.8536213</td>\n",
              "      <td>4.5732008</td>\n",
              "    </tr>\n",
              "    <tr>\n",
              "      <th>4</th>\n",
              "      <td>1</td>\n",
              "      <td>0</td>\n",
              "      <td>21.333334</td>\n",
              "      <td>8</td>\n",
              "      <td>0</td>\n",
              "      <td>0</td>\n",
              "      <td>0</td>\n",
              "      <td>0</td>\n",
              "      <td>2916.666667</td>\n",
              "      <td>0</td>\n",
              "      <td>35000.0</td>\n",
              "      <td>0.016523</td>\n",
              "      <td>48.1916700</td>\n",
              "      <td>3.8751862</td>\n",
              "    </tr>\n",
              "  </tbody>\n",
              "</table>\n",
              "</div>\n",
              "      <button class=\"colab-df-convert\" onclick=\"convertToInteractive('df-07310f8d-a30a-474c-a1b7-342490bfcd31')\"\n",
              "              title=\"Convert this dataframe to an interactive table.\"\n",
              "              style=\"display:none;\">\n",
              "        \n",
              "  <svg xmlns=\"http://www.w3.org/2000/svg\" height=\"24px\"viewBox=\"0 0 24 24\"\n",
              "       width=\"24px\">\n",
              "    <path d=\"M0 0h24v24H0V0z\" fill=\"none\"/>\n",
              "    <path d=\"M18.56 5.44l.94 2.06.94-2.06 2.06-.94-2.06-.94-.94-2.06-.94 2.06-2.06.94zm-11 1L8.5 8.5l.94-2.06 2.06-.94-2.06-.94L8.5 2.5l-.94 2.06-2.06.94zm10 10l.94 2.06.94-2.06 2.06-.94-2.06-.94-.94-2.06-.94 2.06-2.06.94z\"/><path d=\"M17.41 7.96l-1.37-1.37c-.4-.4-.92-.59-1.43-.59-.52 0-1.04.2-1.43.59L10.3 9.45l-7.72 7.72c-.78.78-.78 2.05 0 2.83L4 21.41c.39.39.9.59 1.41.59.51 0 1.02-.2 1.41-.59l7.78-7.78 2.81-2.81c.8-.78.8-2.07 0-2.86zM5.41 20L4 18.59l7.72-7.72 1.47 1.35L5.41 20z\"/>\n",
              "  </svg>\n",
              "      </button>\n",
              "      \n",
              "  <style>\n",
              "    .colab-df-container {\n",
              "      display:flex;\n",
              "      flex-wrap:wrap;\n",
              "      gap: 12px;\n",
              "    }\n",
              "\n",
              "    .colab-df-convert {\n",
              "      background-color: #E8F0FE;\n",
              "      border: none;\n",
              "      border-radius: 50%;\n",
              "      cursor: pointer;\n",
              "      display: none;\n",
              "      fill: #1967D2;\n",
              "      height: 32px;\n",
              "      padding: 0 0 0 0;\n",
              "      width: 32px;\n",
              "    }\n",
              "\n",
              "    .colab-df-convert:hover {\n",
              "      background-color: #E2EBFA;\n",
              "      box-shadow: 0px 1px 2px rgba(60, 64, 67, 0.3), 0px 1px 3px 1px rgba(60, 64, 67, 0.15);\n",
              "      fill: #174EA6;\n",
              "    }\n",
              "\n",
              "    [theme=dark] .colab-df-convert {\n",
              "      background-color: #3B4455;\n",
              "      fill: #D2E3FC;\n",
              "    }\n",
              "\n",
              "    [theme=dark] .colab-df-convert:hover {\n",
              "      background-color: #434B5C;\n",
              "      box-shadow: 0px 1px 3px 1px rgba(0, 0, 0, 0.15);\n",
              "      filter: drop-shadow(0px 1px 2px rgba(0, 0, 0, 0.3));\n",
              "      fill: #FFFFFF;\n",
              "    }\n",
              "  </style>\n",
              "\n",
              "      <script>\n",
              "        const buttonEl =\n",
              "          document.querySelector('#df-07310f8d-a30a-474c-a1b7-342490bfcd31 button.colab-df-convert');\n",
              "        buttonEl.style.display =\n",
              "          google.colab.kernel.accessAllowed ? 'block' : 'none';\n",
              "\n",
              "        async function convertToInteractive(key) {\n",
              "          const element = document.querySelector('#df-07310f8d-a30a-474c-a1b7-342490bfcd31');\n",
              "          const dataTable =\n",
              "            await google.colab.kernel.invokeFunction('convertToInteractive',\n",
              "                                                     [key], {});\n",
              "          if (!dataTable) return;\n",
              "\n",
              "          const docLinkHtml = 'Like what you see? Visit the ' +\n",
              "            '<a target=\"_blank\" href=https://colab.research.google.com/notebooks/data_table.ipynb>data table notebook</a>'\n",
              "            + ' to learn more about interactive tables.';\n",
              "          element.innerHTML = '';\n",
              "          dataTable['output_type'] = 'display_data';\n",
              "          await google.colab.output.renderOutput(dataTable, element);\n",
              "          const docLink = document.createElement('div');\n",
              "          docLink.innerHTML = docLinkHtml;\n",
              "          element.appendChild(docLink);\n",
              "        }\n",
              "      </script>\n",
              "    </div>\n",
              "  </div>\n",
              "  "
            ]
          },
          "metadata": {},
          "execution_count": 2
        }
      ]
    },
    {
      "cell_type": "markdown",
      "source": [
        "Source : https://www.kaggle.com/surekharamireddy/credit-data"
      ],
      "metadata": {
        "id": "qRlNMVhfQ3TL"
      }
    },
    {
      "cell_type": "code",
      "source": [
        "# Bank expects the data to identify the consumers/credit card holders who are likely to default on payments based on the variables gathered."
      ],
      "metadata": {
        "id": "9FvZdqbBTVhO"
      },
      "execution_count": null,
      "outputs": []
    },
    {
      "cell_type": "code",
      "source": [
        "# Description of Data\n",
        "\n",
        "# CARDHLDR  1 if application for credit card accepted, 0 if not\n",
        "# DEFAULT   1 if defaulted 0 if not (observed when CARDHLDR=1, 10,499 observations)\n",
        "# AGE       Age in years plus twelfths of a year\n",
        "# ACADMOS   months living at current address\n",
        "# ADEPCNT   number of dependents\n",
        "# MAJORDRG  Number of major derogatory reports\n",
        "# MINORDRG  Number of minor derogatory reports\n",
        "# OWNRENT   1 if owns their home, 0 if rent\n",
        "# INCOME    Monthly income (divided by 10,000)\n",
        "# SELFEMPL  1 if self employed, 0 if not\n",
        "# INCPER    Income divided by number of dependents\n",
        "# EXP_INC   Ratio of monthly credit card expenditure to yearly income\n",
        "# SPENDING  Average monthly credit card expenditure (for CARDHOLDER = 1)\n",
        "# LOGSPEND  Log of spending"
      ],
      "metadata": {
        "id": "ubdUWzTDQ53k"
      },
      "execution_count": null,
      "outputs": []
    },
    {
      "cell_type": "code",
      "source": [
        "# Target = 'Default'\n",
        "# Classification Problem"
      ],
      "metadata": {
        "id": "66ZFF0dxTAJD"
      },
      "execution_count": null,
      "outputs": []
    },
    {
      "cell_type": "code",
      "source": [
        "df.info()"
      ],
      "metadata": {
        "colab": {
          "base_uri": "https://localhost:8080/"
        },
        "id": "XUrIsRbUS22k",
        "outputId": "0ee1512c-ff31-4b71-ec72-e70fe3d87cd4"
      },
      "execution_count": null,
      "outputs": [
        {
          "output_type": "stream",
          "name": "stdout",
          "text": [
            "<class 'pandas.core.frame.DataFrame'>\n",
            "RangeIndex: 13444 entries, 0 to 13443\n",
            "Data columns (total 14 columns):\n",
            " #   Column     Non-Null Count  Dtype  \n",
            "---  ------     --------------  -----  \n",
            " 0   CARDHLDR   13444 non-null  int64  \n",
            " 1   DEFAULT    13444 non-null  int64  \n",
            " 2   AGE        13444 non-null  float64\n",
            " 3   ACADMOS    13444 non-null  int64  \n",
            " 4   ADEPCNT    13444 non-null  int64  \n",
            " 5   MAJORDRG   13444 non-null  int64  \n",
            " 6   MINORDRG   13444 non-null  int64  \n",
            " 7   OWNRENT    13444 non-null  int64  \n",
            " 8   INCOME     13444 non-null  float64\n",
            " 9   SELFEMPL   13444 non-null  int64  \n",
            " 10  INCPER     13444 non-null  float64\n",
            " 11  EXP_INC    13444 non-null  float64\n",
            " 12  SPENDING   13444 non-null  object \n",
            " 13  LOGSPEND   13444 non-null  object \n",
            "dtypes: float64(4), int64(8), object(2)\n",
            "memory usage: 1.4+ MB\n"
          ]
        }
      ]
    },
    {
      "cell_type": "markdown",
      "source": [
        "# ***DATASET 2***"
      ],
      "metadata": {
        "id": "2CtIzcQjVS9l"
      }
    },
    {
      "cell_type": "code",
      "source": [
        "path = '/content/Bank Marketing.csv.zip'\n",
        "df2 = pd.read_csv(path)\n",
        "df2.head()"
      ],
      "metadata": {
        "colab": {
          "base_uri": "https://localhost:8080/",
          "height": 305
        },
        "id": "v-2DYPFmXeVr",
        "outputId": "27e2d685-b44b-4098-b4eb-d356bf524075"
      },
      "execution_count": null,
      "outputs": [
        {
          "output_type": "execute_result",
          "data": {
            "text/plain": [
              "   Age           Job Marital Status  Education Credit  Balance (euros)  \\\n",
              "0   58    management        married   tertiary     no             2143   \n",
              "1   44    technician         single  secondary     no               29   \n",
              "2   33  entrepreneur        married  secondary     no                2   \n",
              "3   47   blue-collar        married    unknown     no             1506   \n",
              "4   33       unknown         single    unknown     no                1   \n",
              "\n",
              "  Housing Loan Personal Loan  Contact  Last Contact Day Last Contact Month  \\\n",
              "0          yes            no  unknown                 5                may   \n",
              "1          yes            no  unknown                 5                may   \n",
              "2          yes           yes  unknown                 5                may   \n",
              "3          yes            no  unknown                 5                may   \n",
              "4           no            no  unknown                 5                may   \n",
              "\n",
              "   Last Contact Duration  Campaign  Pdays  Previous Poutcome  Subscription  \n",
              "0                    261         1     -1         0  unknown             1  \n",
              "1                    151         1     -1         0  unknown             1  \n",
              "2                     76         1     -1         0  unknown             1  \n",
              "3                     92         1     -1         0  unknown             1  \n",
              "4                    198         1     -1         0  unknown             1  "
            ],
            "text/html": [
              "\n",
              "  <div id=\"df-977263d3-b3e5-4bb9-9dcd-2a4f01224b9c\">\n",
              "    <div class=\"colab-df-container\">\n",
              "      <div>\n",
              "<style scoped>\n",
              "    .dataframe tbody tr th:only-of-type {\n",
              "        vertical-align: middle;\n",
              "    }\n",
              "\n",
              "    .dataframe tbody tr th {\n",
              "        vertical-align: top;\n",
              "    }\n",
              "\n",
              "    .dataframe thead th {\n",
              "        text-align: right;\n",
              "    }\n",
              "</style>\n",
              "<table border=\"1\" class=\"dataframe\">\n",
              "  <thead>\n",
              "    <tr style=\"text-align: right;\">\n",
              "      <th></th>\n",
              "      <th>Age</th>\n",
              "      <th>Job</th>\n",
              "      <th>Marital Status</th>\n",
              "      <th>Education</th>\n",
              "      <th>Credit</th>\n",
              "      <th>Balance (euros)</th>\n",
              "      <th>Housing Loan</th>\n",
              "      <th>Personal Loan</th>\n",
              "      <th>Contact</th>\n",
              "      <th>Last Contact Day</th>\n",
              "      <th>Last Contact Month</th>\n",
              "      <th>Last Contact Duration</th>\n",
              "      <th>Campaign</th>\n",
              "      <th>Pdays</th>\n",
              "      <th>Previous</th>\n",
              "      <th>Poutcome</th>\n",
              "      <th>Subscription</th>\n",
              "    </tr>\n",
              "  </thead>\n",
              "  <tbody>\n",
              "    <tr>\n",
              "      <th>0</th>\n",
              "      <td>58</td>\n",
              "      <td>management</td>\n",
              "      <td>married</td>\n",
              "      <td>tertiary</td>\n",
              "      <td>no</td>\n",
              "      <td>2143</td>\n",
              "      <td>yes</td>\n",
              "      <td>no</td>\n",
              "      <td>unknown</td>\n",
              "      <td>5</td>\n",
              "      <td>may</td>\n",
              "      <td>261</td>\n",
              "      <td>1</td>\n",
              "      <td>-1</td>\n",
              "      <td>0</td>\n",
              "      <td>unknown</td>\n",
              "      <td>1</td>\n",
              "    </tr>\n",
              "    <tr>\n",
              "      <th>1</th>\n",
              "      <td>44</td>\n",
              "      <td>technician</td>\n",
              "      <td>single</td>\n",
              "      <td>secondary</td>\n",
              "      <td>no</td>\n",
              "      <td>29</td>\n",
              "      <td>yes</td>\n",
              "      <td>no</td>\n",
              "      <td>unknown</td>\n",
              "      <td>5</td>\n",
              "      <td>may</td>\n",
              "      <td>151</td>\n",
              "      <td>1</td>\n",
              "      <td>-1</td>\n",
              "      <td>0</td>\n",
              "      <td>unknown</td>\n",
              "      <td>1</td>\n",
              "    </tr>\n",
              "    <tr>\n",
              "      <th>2</th>\n",
              "      <td>33</td>\n",
              "      <td>entrepreneur</td>\n",
              "      <td>married</td>\n",
              "      <td>secondary</td>\n",
              "      <td>no</td>\n",
              "      <td>2</td>\n",
              "      <td>yes</td>\n",
              "      <td>yes</td>\n",
              "      <td>unknown</td>\n",
              "      <td>5</td>\n",
              "      <td>may</td>\n",
              "      <td>76</td>\n",
              "      <td>1</td>\n",
              "      <td>-1</td>\n",
              "      <td>0</td>\n",
              "      <td>unknown</td>\n",
              "      <td>1</td>\n",
              "    </tr>\n",
              "    <tr>\n",
              "      <th>3</th>\n",
              "      <td>47</td>\n",
              "      <td>blue-collar</td>\n",
              "      <td>married</td>\n",
              "      <td>unknown</td>\n",
              "      <td>no</td>\n",
              "      <td>1506</td>\n",
              "      <td>yes</td>\n",
              "      <td>no</td>\n",
              "      <td>unknown</td>\n",
              "      <td>5</td>\n",
              "      <td>may</td>\n",
              "      <td>92</td>\n",
              "      <td>1</td>\n",
              "      <td>-1</td>\n",
              "      <td>0</td>\n",
              "      <td>unknown</td>\n",
              "      <td>1</td>\n",
              "    </tr>\n",
              "    <tr>\n",
              "      <th>4</th>\n",
              "      <td>33</td>\n",
              "      <td>unknown</td>\n",
              "      <td>single</td>\n",
              "      <td>unknown</td>\n",
              "      <td>no</td>\n",
              "      <td>1</td>\n",
              "      <td>no</td>\n",
              "      <td>no</td>\n",
              "      <td>unknown</td>\n",
              "      <td>5</td>\n",
              "      <td>may</td>\n",
              "      <td>198</td>\n",
              "      <td>1</td>\n",
              "      <td>-1</td>\n",
              "      <td>0</td>\n",
              "      <td>unknown</td>\n",
              "      <td>1</td>\n",
              "    </tr>\n",
              "  </tbody>\n",
              "</table>\n",
              "</div>\n",
              "      <button class=\"colab-df-convert\" onclick=\"convertToInteractive('df-977263d3-b3e5-4bb9-9dcd-2a4f01224b9c')\"\n",
              "              title=\"Convert this dataframe to an interactive table.\"\n",
              "              style=\"display:none;\">\n",
              "        \n",
              "  <svg xmlns=\"http://www.w3.org/2000/svg\" height=\"24px\"viewBox=\"0 0 24 24\"\n",
              "       width=\"24px\">\n",
              "    <path d=\"M0 0h24v24H0V0z\" fill=\"none\"/>\n",
              "    <path d=\"M18.56 5.44l.94 2.06.94-2.06 2.06-.94-2.06-.94-.94-2.06-.94 2.06-2.06.94zm-11 1L8.5 8.5l.94-2.06 2.06-.94-2.06-.94L8.5 2.5l-.94 2.06-2.06.94zm10 10l.94 2.06.94-2.06 2.06-.94-2.06-.94-.94-2.06-.94 2.06-2.06.94z\"/><path d=\"M17.41 7.96l-1.37-1.37c-.4-.4-.92-.59-1.43-.59-.52 0-1.04.2-1.43.59L10.3 9.45l-7.72 7.72c-.78.78-.78 2.05 0 2.83L4 21.41c.39.39.9.59 1.41.59.51 0 1.02-.2 1.41-.59l7.78-7.78 2.81-2.81c.8-.78.8-2.07 0-2.86zM5.41 20L4 18.59l7.72-7.72 1.47 1.35L5.41 20z\"/>\n",
              "  </svg>\n",
              "      </button>\n",
              "      \n",
              "  <style>\n",
              "    .colab-df-container {\n",
              "      display:flex;\n",
              "      flex-wrap:wrap;\n",
              "      gap: 12px;\n",
              "    }\n",
              "\n",
              "    .colab-df-convert {\n",
              "      background-color: #E8F0FE;\n",
              "      border: none;\n",
              "      border-radius: 50%;\n",
              "      cursor: pointer;\n",
              "      display: none;\n",
              "      fill: #1967D2;\n",
              "      height: 32px;\n",
              "      padding: 0 0 0 0;\n",
              "      width: 32px;\n",
              "    }\n",
              "\n",
              "    .colab-df-convert:hover {\n",
              "      background-color: #E2EBFA;\n",
              "      box-shadow: 0px 1px 2px rgba(60, 64, 67, 0.3), 0px 1px 3px 1px rgba(60, 64, 67, 0.15);\n",
              "      fill: #174EA6;\n",
              "    }\n",
              "\n",
              "    [theme=dark] .colab-df-convert {\n",
              "      background-color: #3B4455;\n",
              "      fill: #D2E3FC;\n",
              "    }\n",
              "\n",
              "    [theme=dark] .colab-df-convert:hover {\n",
              "      background-color: #434B5C;\n",
              "      box-shadow: 0px 1px 3px 1px rgba(0, 0, 0, 0.15);\n",
              "      filter: drop-shadow(0px 1px 2px rgba(0, 0, 0, 0.3));\n",
              "      fill: #FFFFFF;\n",
              "    }\n",
              "  </style>\n",
              "\n",
              "      <script>\n",
              "        const buttonEl =\n",
              "          document.querySelector('#df-977263d3-b3e5-4bb9-9dcd-2a4f01224b9c button.colab-df-convert');\n",
              "        buttonEl.style.display =\n",
              "          google.colab.kernel.accessAllowed ? 'block' : 'none';\n",
              "\n",
              "        async function convertToInteractive(key) {\n",
              "          const element = document.querySelector('#df-977263d3-b3e5-4bb9-9dcd-2a4f01224b9c');\n",
              "          const dataTable =\n",
              "            await google.colab.kernel.invokeFunction('convertToInteractive',\n",
              "                                                     [key], {});\n",
              "          if (!dataTable) return;\n",
              "\n",
              "          const docLinkHtml = 'Like what you see? Visit the ' +\n",
              "            '<a target=\"_blank\" href=https://colab.research.google.com/notebooks/data_table.ipynb>data table notebook</a>'\n",
              "            + ' to learn more about interactive tables.';\n",
              "          element.innerHTML = '';\n",
              "          dataTable['output_type'] = 'display_data';\n",
              "          await google.colab.output.renderOutput(dataTable, element);\n",
              "          const docLink = document.createElement('div');\n",
              "          docLink.innerHTML = docLinkHtml;\n",
              "          element.appendChild(docLink);\n",
              "        }\n",
              "      </script>\n",
              "    </div>\n",
              "  </div>\n",
              "  "
            ]
          },
          "metadata": {},
          "execution_count": 7
        }
      ]
    },
    {
      "cell_type": "markdown",
      "source": [
        "Source : https://www.kaggle.com/aakashverma8900/portuguese-bank-marketing?select=Bank+Marketing.csv"
      ],
      "metadata": {
        "id": "ODcLcS9MgEg8"
      }
    },
    {
      "cell_type": "code",
      "source": [
        "# Bank marketing campaigns via phone calls were put into place to see if customer were to subscribe or not to the bank's term deposits. "
      ],
      "metadata": {
        "id": "fFUqCcfUgRil"
      },
      "execution_count": null,
      "outputs": []
    },
    {
      "cell_type": "code",
      "source": [
        "# 1 - age      (numeric)\n",
        "# 2 - job      type of job \n",
        "# 3 - marital  marital status \n",
        "# 4 - education (categorical: \"unknown\",\"secondary\",\"primary\",\"tertiary\")\n",
        "# 5 - default: has credit in default? (binary: \"yes\",\"no\")\n",
        "# 6 - balance: average yearly balance, in euros (numeric)\n",
        "# 7 - housing: has housing loan? (binary: \"yes\",\"no\")\n",
        "# 8 - loan: has personal loan? (binary: \"yes\",\"no\")\n",
        "# related with the last contact of the current campaign:\n",
        "# 9 - contact: contact communication type (categorical: \"unknown\",\"telephone\",\"cellular\")\n",
        "# 10 - day: last contact day of the month (numeric)\n",
        "# 11 - month: last contact month of year (categorical: \"jan\", \"feb\", \"mar\", …, \"nov\", \"dec\")\n",
        "# 12 - duration: last contact duration, in seconds (numeric)\n",
        "# other attributes:\n",
        "# 13 - campaign: number of contacts performed during this campaign and for this client (numeric, includes last contact)\n",
        "# 14 - pdays: number of days that passed by after the client was last contacted from a previous campaign (numeric, -1 means client was not previously contacted)\n",
        "# 15 - previous: number of contacts performed before this campaign and for this client (numeric)\n",
        "# 16 - poutcome: outcome of the previous marketing campaign (categorical: \"unknown\",\"other\",\"failure\",\"success\")\n",
        "\n",
        "# output variable (desired target):\n",
        "# 17 - y - has the client subscribed a term deposit? (binary: \"yes\",\"no\")"
      ],
      "metadata": {
        "id": "df-hSFBjhAT-"
      },
      "execution_count": null,
      "outputs": []
    },
    {
      "cell_type": "code",
      "source": [
        "df2.info()"
      ],
      "metadata": {
        "colab": {
          "base_uri": "https://localhost:8080/"
        },
        "id": "U9Xv2P8xeRdc",
        "outputId": "11ccf337-3f81-491e-92c8-86b1a78d2d13"
      },
      "execution_count": null,
      "outputs": [
        {
          "output_type": "stream",
          "name": "stdout",
          "text": [
            "<class 'pandas.core.frame.DataFrame'>\n",
            "RangeIndex: 45211 entries, 0 to 45210\n",
            "Data columns (total 17 columns):\n",
            " #   Column                 Non-Null Count  Dtype \n",
            "---  ------                 --------------  ----- \n",
            " 0   Age                    45211 non-null  int64 \n",
            " 1   Job                    45211 non-null  object\n",
            " 2   Marital Status         45211 non-null  object\n",
            " 3   Education              45211 non-null  object\n",
            " 4   Credit                 45211 non-null  object\n",
            " 5   Balance (euros)        45211 non-null  int64 \n",
            " 6   Housing Loan           45211 non-null  object\n",
            " 7   Personal Loan          45211 non-null  object\n",
            " 8   Contact                45211 non-null  object\n",
            " 9   Last Contact Day       45211 non-null  int64 \n",
            " 10  Last Contact Month     45211 non-null  object\n",
            " 11  Last Contact Duration  45211 non-null  int64 \n",
            " 12  Campaign               45211 non-null  int64 \n",
            " 13  Pdays                  45211 non-null  int64 \n",
            " 14  Previous               45211 non-null  int64 \n",
            " 15  Poutcome               45211 non-null  object\n",
            " 16  Subscription           45211 non-null  int64 \n",
            "dtypes: int64(8), object(9)\n",
            "memory usage: 5.9+ MB\n"
          ]
        }
      ]
    },
    {
      "cell_type": "code",
      "source": [
        "# Generally I have been in the banking/retail/insurance industry for more than 20years. These datasets have caught my attention since it deals with \n",
        "# data that will show factors of your end result which is getting your client to sign in that document or avail of products and services offered by the business."
      ],
      "metadata": {
        "id": "G411bBzqvXEM"
      },
      "execution_count": null,
      "outputs": []
    },
    {
      "cell_type": "code",
      "source": [
        "# Problems I see that I might encounter is that there might be columns that would be irrelevant to my end results that I will be targeting for."
      ],
      "metadata": {
        "id": "dVrePiimOWty"
      },
      "execution_count": null,
      "outputs": []
    }
  ]
}