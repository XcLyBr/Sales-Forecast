{
  "nbformat": 4,
  "nbformat_minor": 0,
  "metadata": {
    "colab": {
      "name": "SalesPrediction.ipynb",
      "provenance": [],
      "collapsed_sections": [],
      "mount_file_id": "1uxChbwgTqUBCIWjNkwJwl_Ozp0Qe6TvH",
      "authorship_tag": "ABX9TyMUTJTn0Fr9fUe5R6xGCATq",
      "include_colab_link": true
    },
    "kernelspec": {
      "name": "python3",
      "display_name": "Python 3"
    },
    "language_info": {
      "name": "python"
    }
  },
  "cells": [
    {
      "cell_type": "markdown",
      "metadata": {
        "id": "view-in-github",
        "colab_type": "text"
      },
      "source": [
        "<a href=\"https://colab.research.google.com/github/XcLyBr/Sales-Forecast/blob/main/SalesPrediction.ipynb\" target=\"_parent\"><img src=\"https://colab.research.google.com/assets/colab-badge.svg\" alt=\"Open In Colab\"/></a>"
      ]
    },
    {
      "cell_type": "code",
      "execution_count": null,
      "metadata": {
        "id": "Be-U3JXcQO9E"
      },
      "outputs": [],
      "source": [
        "\n",
        "\n",
        "import pandas as pd\n",
        "import numpy as np\n",
        "import matplotlib.pyplot as plt \n",
        "import seaborn as sns\n",
        "import seaborn as sns; sns.set_theme\n",
        "from sklearn.model_selection import train_test_split\n",
        "from sklearn.metrics import r2_score, mean_absolute_error, mean_squared_error\n",
        "from sklearn.compose import make_column_selector, make_column_transformer\n",
        "from sklearn.preprocessing import OneHotEncoder\n",
        "from sklearn.preprocessing import StandardScaler, OneHotEncoder\n",
        "from sklearn.pipeline import make_pipeline\n",
        "from sklearn.impute import SimpleImputer\n",
        "from sklearn.linear_model import LinearRegression\n",
        "from sklearn.tree import DecisionTreeRegressor, DecisionTreeClassifier \n",
        "from sklearn.dummy import DummyRegressor\n",
        "from sklearn import set_config\n",
        "from sklearn.ensemble import BaggingRegressor, RandomForestRegressor\n",
        "set_config(display = \"diagram\")\n",
        "sns.set()\n"
      ]
    },
    {
      "cell_type": "code",
      "source": [
        "filename = '/content/drive/MyDrive/sales_predictions.csv'"
      ],
      "metadata": {
        "id": "_3a6IWolSFVT"
      },
      "execution_count": null,
      "outputs": []
    },
    {
      "cell_type": "code",
      "source": [
        "df = pd.read_csv(filename, index_col =0)\n",
        "df.head(10)\n"
      ],
      "metadata": {
        "colab": {
          "base_uri": "https://localhost:8080/",
          "height": 394
        },
        "id": "4Mb1Tzd3SNgg",
        "outputId": "1710b18e-91c2-404e-f072-080d646a9bc2"
      },
      "execution_count": null,
      "outputs": [
        {
          "output_type": "execute_result",
          "data": {
            "text/html": [
              "\n",
              "  <div id=\"df-19f3e507-8510-461d-83e7-7e21b155d99c\">\n",
              "    <div class=\"colab-df-container\">\n",
              "      <div>\n",
              "<style scoped>\n",
              "    .dataframe tbody tr th:only-of-type {\n",
              "        vertical-align: middle;\n",
              "    }\n",
              "\n",
              "    .dataframe tbody tr th {\n",
              "        vertical-align: top;\n",
              "    }\n",
              "\n",
              "    .dataframe thead th {\n",
              "        text-align: right;\n",
              "    }\n",
              "</style>\n",
              "<table border=\"1\" class=\"dataframe\">\n",
              "  <thead>\n",
              "    <tr style=\"text-align: right;\">\n",
              "      <th></th>\n",
              "      <th>Item_Weight</th>\n",
              "      <th>Item_Fat_Content</th>\n",
              "      <th>Item_Visibility</th>\n",
              "      <th>Item_Type</th>\n",
              "      <th>Item_MRP</th>\n",
              "      <th>Outlet_Identifier</th>\n",
              "      <th>Outlet_Establishment_Year</th>\n",
              "      <th>Outlet_Size</th>\n",
              "      <th>Outlet_Location_Type</th>\n",
              "      <th>Outlet_Type</th>\n",
              "      <th>Item_Outlet_Sales</th>\n",
              "    </tr>\n",
              "    <tr>\n",
              "      <th>Item_Identifier</th>\n",
              "      <th></th>\n",
              "      <th></th>\n",
              "      <th></th>\n",
              "      <th></th>\n",
              "      <th></th>\n",
              "      <th></th>\n",
              "      <th></th>\n",
              "      <th></th>\n",
              "      <th></th>\n",
              "      <th></th>\n",
              "      <th></th>\n",
              "    </tr>\n",
              "  </thead>\n",
              "  <tbody>\n",
              "    <tr>\n",
              "      <th>FDA15</th>\n",
              "      <td>9.300</td>\n",
              "      <td>Low Fat</td>\n",
              "      <td>0.016047</td>\n",
              "      <td>Dairy</td>\n",
              "      <td>249.8092</td>\n",
              "      <td>OUT049</td>\n",
              "      <td>1999</td>\n",
              "      <td>Medium</td>\n",
              "      <td>Tier 1</td>\n",
              "      <td>Supermarket Type1</td>\n",
              "      <td>3735.1380</td>\n",
              "    </tr>\n",
              "    <tr>\n",
              "      <th>DRC01</th>\n",
              "      <td>5.920</td>\n",
              "      <td>Regular</td>\n",
              "      <td>0.019278</td>\n",
              "      <td>Soft Drinks</td>\n",
              "      <td>48.2692</td>\n",
              "      <td>OUT018</td>\n",
              "      <td>2009</td>\n",
              "      <td>Medium</td>\n",
              "      <td>Tier 3</td>\n",
              "      <td>Supermarket Type2</td>\n",
              "      <td>443.4228</td>\n",
              "    </tr>\n",
              "    <tr>\n",
              "      <th>FDN15</th>\n",
              "      <td>17.500</td>\n",
              "      <td>Low Fat</td>\n",
              "      <td>0.016760</td>\n",
              "      <td>Meat</td>\n",
              "      <td>141.6180</td>\n",
              "      <td>OUT049</td>\n",
              "      <td>1999</td>\n",
              "      <td>Medium</td>\n",
              "      <td>Tier 1</td>\n",
              "      <td>Supermarket Type1</td>\n",
              "      <td>2097.2700</td>\n",
              "    </tr>\n",
              "    <tr>\n",
              "      <th>FDX07</th>\n",
              "      <td>19.200</td>\n",
              "      <td>Regular</td>\n",
              "      <td>0.000000</td>\n",
              "      <td>Fruits and Vegetables</td>\n",
              "      <td>182.0950</td>\n",
              "      <td>OUT010</td>\n",
              "      <td>1998</td>\n",
              "      <td>NaN</td>\n",
              "      <td>Tier 3</td>\n",
              "      <td>Grocery Store</td>\n",
              "      <td>732.3800</td>\n",
              "    </tr>\n",
              "    <tr>\n",
              "      <th>NCD19</th>\n",
              "      <td>8.930</td>\n",
              "      <td>Low Fat</td>\n",
              "      <td>0.000000</td>\n",
              "      <td>Household</td>\n",
              "      <td>53.8614</td>\n",
              "      <td>OUT013</td>\n",
              "      <td>1987</td>\n",
              "      <td>High</td>\n",
              "      <td>Tier 3</td>\n",
              "      <td>Supermarket Type1</td>\n",
              "      <td>994.7052</td>\n",
              "    </tr>\n",
              "    <tr>\n",
              "      <th>FDP36</th>\n",
              "      <td>10.395</td>\n",
              "      <td>Regular</td>\n",
              "      <td>0.000000</td>\n",
              "      <td>Baking Goods</td>\n",
              "      <td>51.4008</td>\n",
              "      <td>OUT018</td>\n",
              "      <td>2009</td>\n",
              "      <td>Medium</td>\n",
              "      <td>Tier 3</td>\n",
              "      <td>Supermarket Type2</td>\n",
              "      <td>556.6088</td>\n",
              "    </tr>\n",
              "    <tr>\n",
              "      <th>FDO10</th>\n",
              "      <td>13.650</td>\n",
              "      <td>Regular</td>\n",
              "      <td>0.012741</td>\n",
              "      <td>Snack Foods</td>\n",
              "      <td>57.6588</td>\n",
              "      <td>OUT013</td>\n",
              "      <td>1987</td>\n",
              "      <td>High</td>\n",
              "      <td>Tier 3</td>\n",
              "      <td>Supermarket Type1</td>\n",
              "      <td>343.5528</td>\n",
              "    </tr>\n",
              "    <tr>\n",
              "      <th>FDP10</th>\n",
              "      <td>NaN</td>\n",
              "      <td>Low Fat</td>\n",
              "      <td>0.127470</td>\n",
              "      <td>Snack Foods</td>\n",
              "      <td>107.7622</td>\n",
              "      <td>OUT027</td>\n",
              "      <td>1985</td>\n",
              "      <td>Medium</td>\n",
              "      <td>Tier 3</td>\n",
              "      <td>Supermarket Type3</td>\n",
              "      <td>4022.7636</td>\n",
              "    </tr>\n",
              "    <tr>\n",
              "      <th>FDH17</th>\n",
              "      <td>16.200</td>\n",
              "      <td>Regular</td>\n",
              "      <td>0.016687</td>\n",
              "      <td>Frozen Foods</td>\n",
              "      <td>96.9726</td>\n",
              "      <td>OUT045</td>\n",
              "      <td>2002</td>\n",
              "      <td>NaN</td>\n",
              "      <td>Tier 2</td>\n",
              "      <td>Supermarket Type1</td>\n",
              "      <td>1076.5986</td>\n",
              "    </tr>\n",
              "    <tr>\n",
              "      <th>FDU28</th>\n",
              "      <td>19.200</td>\n",
              "      <td>Regular</td>\n",
              "      <td>0.094450</td>\n",
              "      <td>Frozen Foods</td>\n",
              "      <td>187.8214</td>\n",
              "      <td>OUT017</td>\n",
              "      <td>2007</td>\n",
              "      <td>NaN</td>\n",
              "      <td>Tier 2</td>\n",
              "      <td>Supermarket Type1</td>\n",
              "      <td>4710.5350</td>\n",
              "    </tr>\n",
              "  </tbody>\n",
              "</table>\n",
              "</div>\n",
              "      <button class=\"colab-df-convert\" onclick=\"convertToInteractive('df-19f3e507-8510-461d-83e7-7e21b155d99c')\"\n",
              "              title=\"Convert this dataframe to an interactive table.\"\n",
              "              style=\"display:none;\">\n",
              "        \n",
              "  <svg xmlns=\"http://www.w3.org/2000/svg\" height=\"24px\"viewBox=\"0 0 24 24\"\n",
              "       width=\"24px\">\n",
              "    <path d=\"M0 0h24v24H0V0z\" fill=\"none\"/>\n",
              "    <path d=\"M18.56 5.44l.94 2.06.94-2.06 2.06-.94-2.06-.94-.94-2.06-.94 2.06-2.06.94zm-11 1L8.5 8.5l.94-2.06 2.06-.94-2.06-.94L8.5 2.5l-.94 2.06-2.06.94zm10 10l.94 2.06.94-2.06 2.06-.94-2.06-.94-.94-2.06-.94 2.06-2.06.94z\"/><path d=\"M17.41 7.96l-1.37-1.37c-.4-.4-.92-.59-1.43-.59-.52 0-1.04.2-1.43.59L10.3 9.45l-7.72 7.72c-.78.78-.78 2.05 0 2.83L4 21.41c.39.39.9.59 1.41.59.51 0 1.02-.2 1.41-.59l7.78-7.78 2.81-2.81c.8-.78.8-2.07 0-2.86zM5.41 20L4 18.59l7.72-7.72 1.47 1.35L5.41 20z\"/>\n",
              "  </svg>\n",
              "      </button>\n",
              "      \n",
              "  <style>\n",
              "    .colab-df-container {\n",
              "      display:flex;\n",
              "      flex-wrap:wrap;\n",
              "      gap: 12px;\n",
              "    }\n",
              "\n",
              "    .colab-df-convert {\n",
              "      background-color: #E8F0FE;\n",
              "      border: none;\n",
              "      border-radius: 50%;\n",
              "      cursor: pointer;\n",
              "      display: none;\n",
              "      fill: #1967D2;\n",
              "      height: 32px;\n",
              "      padding: 0 0 0 0;\n",
              "      width: 32px;\n",
              "    }\n",
              "\n",
              "    .colab-df-convert:hover {\n",
              "      background-color: #E2EBFA;\n",
              "      box-shadow: 0px 1px 2px rgba(60, 64, 67, 0.3), 0px 1px 3px 1px rgba(60, 64, 67, 0.15);\n",
              "      fill: #174EA6;\n",
              "    }\n",
              "\n",
              "    [theme=dark] .colab-df-convert {\n",
              "      background-color: #3B4455;\n",
              "      fill: #D2E3FC;\n",
              "    }\n",
              "\n",
              "    [theme=dark] .colab-df-convert:hover {\n",
              "      background-color: #434B5C;\n",
              "      box-shadow: 0px 1px 3px 1px rgba(0, 0, 0, 0.15);\n",
              "      filter: drop-shadow(0px 1px 2px rgba(0, 0, 0, 0.3));\n",
              "      fill: #FFFFFF;\n",
              "    }\n",
              "  </style>\n",
              "\n",
              "      <script>\n",
              "        const buttonEl =\n",
              "          document.querySelector('#df-19f3e507-8510-461d-83e7-7e21b155d99c button.colab-df-convert');\n",
              "        buttonEl.style.display =\n",
              "          google.colab.kernel.accessAllowed ? 'block' : 'none';\n",
              "\n",
              "        async function convertToInteractive(key) {\n",
              "          const element = document.querySelector('#df-19f3e507-8510-461d-83e7-7e21b155d99c');\n",
              "          const dataTable =\n",
              "            await google.colab.kernel.invokeFunction('convertToInteractive',\n",
              "                                                     [key], {});\n",
              "          if (!dataTable) return;\n",
              "\n",
              "          const docLinkHtml = 'Like what you see? Visit the ' +\n",
              "            '<a target=\"_blank\" href=https://colab.research.google.com/notebooks/data_table.ipynb>data table notebook</a>'\n",
              "            + ' to learn more about interactive tables.';\n",
              "          element.innerHTML = '';\n",
              "          dataTable['output_type'] = 'display_data';\n",
              "          await google.colab.output.renderOutput(dataTable, element);\n",
              "          const docLink = document.createElement('div');\n",
              "          docLink.innerHTML = docLinkHtml;\n",
              "          element.appendChild(docLink);\n",
              "        }\n",
              "      </script>\n",
              "    </div>\n",
              "  </div>\n",
              "  "
            ],
            "text/plain": [
              "                 Item_Weight Item_Fat_Content  Item_Visibility  \\\n",
              "Item_Identifier                                                  \n",
              "FDA15                  9.300          Low Fat         0.016047   \n",
              "DRC01                  5.920          Regular         0.019278   \n",
              "FDN15                 17.500          Low Fat         0.016760   \n",
              "FDX07                 19.200          Regular         0.000000   \n",
              "NCD19                  8.930          Low Fat         0.000000   \n",
              "FDP36                 10.395          Regular         0.000000   \n",
              "FDO10                 13.650          Regular         0.012741   \n",
              "FDP10                    NaN          Low Fat         0.127470   \n",
              "FDH17                 16.200          Regular         0.016687   \n",
              "FDU28                 19.200          Regular         0.094450   \n",
              "\n",
              "                             Item_Type  Item_MRP Outlet_Identifier  \\\n",
              "Item_Identifier                                                      \n",
              "FDA15                            Dairy  249.8092            OUT049   \n",
              "DRC01                      Soft Drinks   48.2692            OUT018   \n",
              "FDN15                             Meat  141.6180            OUT049   \n",
              "FDX07            Fruits and Vegetables  182.0950            OUT010   \n",
              "NCD19                        Household   53.8614            OUT013   \n",
              "FDP36                     Baking Goods   51.4008            OUT018   \n",
              "FDO10                      Snack Foods   57.6588            OUT013   \n",
              "FDP10                      Snack Foods  107.7622            OUT027   \n",
              "FDH17                     Frozen Foods   96.9726            OUT045   \n",
              "FDU28                     Frozen Foods  187.8214            OUT017   \n",
              "\n",
              "                 Outlet_Establishment_Year Outlet_Size Outlet_Location_Type  \\\n",
              "Item_Identifier                                                               \n",
              "FDA15                                 1999      Medium               Tier 1   \n",
              "DRC01                                 2009      Medium               Tier 3   \n",
              "FDN15                                 1999      Medium               Tier 1   \n",
              "FDX07                                 1998         NaN               Tier 3   \n",
              "NCD19                                 1987        High               Tier 3   \n",
              "FDP36                                 2009      Medium               Tier 3   \n",
              "FDO10                                 1987        High               Tier 3   \n",
              "FDP10                                 1985      Medium               Tier 3   \n",
              "FDH17                                 2002         NaN               Tier 2   \n",
              "FDU28                                 2007         NaN               Tier 2   \n",
              "\n",
              "                       Outlet_Type  Item_Outlet_Sales  \n",
              "Item_Identifier                                        \n",
              "FDA15            Supermarket Type1          3735.1380  \n",
              "DRC01            Supermarket Type2           443.4228  \n",
              "FDN15            Supermarket Type1          2097.2700  \n",
              "FDX07                Grocery Store           732.3800  \n",
              "NCD19            Supermarket Type1           994.7052  \n",
              "FDP36            Supermarket Type2           556.6088  \n",
              "FDO10            Supermarket Type1           343.5528  \n",
              "FDP10            Supermarket Type3          4022.7636  \n",
              "FDH17            Supermarket Type1          1076.5986  \n",
              "FDU28            Supermarket Type1          4710.5350  "
            ]
          },
          "metadata": {},
          "execution_count": 3
        }
      ]
    },
    {
      "cell_type": "code",
      "source": [
        "df.shape"
      ],
      "metadata": {
        "colab": {
          "base_uri": "https://localhost:8080/"
        },
        "id": "lCOLSO_m9MYp",
        "outputId": "58296913-80da-45ec-e9dc-4802d0e257e6"
      },
      "execution_count": null,
      "outputs": [
        {
          "output_type": "execute_result",
          "data": {
            "text/plain": [
              "(8523, 11)"
            ]
          },
          "metadata": {},
          "execution_count": 4
        }
      ]
    },
    {
      "cell_type": "code",
      "source": [
        "df.dtypes"
      ],
      "metadata": {
        "colab": {
          "base_uri": "https://localhost:8080/"
        },
        "id": "wyF6pQsv9q8y",
        "outputId": "abcd59d8-6586-4a25-bd18-2e61d6201fdb"
      },
      "execution_count": null,
      "outputs": [
        {
          "output_type": "execute_result",
          "data": {
            "text/plain": [
              "Item_Weight                  float64\n",
              "Item_Fat_Content              object\n",
              "Item_Visibility              float64\n",
              "Item_Type                     object\n",
              "Item_MRP                     float64\n",
              "Outlet_Identifier             object\n",
              "Outlet_Establishment_Year      int64\n",
              "Outlet_Size                   object\n",
              "Outlet_Location_Type          object\n",
              "Outlet_Type                   object\n",
              "Item_Outlet_Sales            float64\n",
              "dtype: object"
            ]
          },
          "metadata": {},
          "execution_count": 5
        }
      ]
    },
    {
      "cell_type": "code",
      "source": [
        "df.duplicated().any()"
      ],
      "metadata": {
        "colab": {
          "base_uri": "https://localhost:8080/"
        },
        "id": "XZVi888i8vqc",
        "outputId": "51f29d98-d7ac-4158-dc6f-1a7fafe0970e"
      },
      "execution_count": null,
      "outputs": [
        {
          "output_type": "execute_result",
          "data": {
            "text/plain": [
              "False"
            ]
          },
          "metadata": {},
          "execution_count": 6
        }
      ]
    },
    {
      "cell_type": "markdown",
      "source": [
        "No duplicates"
      ],
      "metadata": {
        "id": "8oX4HMvQ8_4n"
      }
    },
    {
      "cell_type": "code",
      "source": [
        "df.info()\n"
      ],
      "metadata": {
        "colab": {
          "base_uri": "https://localhost:8080/"
        },
        "id": "Xb4QrMY_A_4y",
        "outputId": "e9b75224-6b12-44a1-e49b-173f8e34b8ed"
      },
      "execution_count": null,
      "outputs": [
        {
          "output_type": "stream",
          "name": "stdout",
          "text": [
            "<class 'pandas.core.frame.DataFrame'>\n",
            "Index: 8523 entries, FDA15 to DRG01\n",
            "Data columns (total 11 columns):\n",
            " #   Column                     Non-Null Count  Dtype  \n",
            "---  ------                     --------------  -----  \n",
            " 0   Item_Weight                7060 non-null   float64\n",
            " 1   Item_Fat_Content           8523 non-null   object \n",
            " 2   Item_Visibility            8523 non-null   float64\n",
            " 3   Item_Type                  8523 non-null   object \n",
            " 4   Item_MRP                   8523 non-null   float64\n",
            " 5   Outlet_Identifier          8523 non-null   object \n",
            " 6   Outlet_Establishment_Year  8523 non-null   int64  \n",
            " 7   Outlet_Size                6113 non-null   object \n",
            " 8   Outlet_Location_Type       8523 non-null   object \n",
            " 9   Outlet_Type                8523 non-null   object \n",
            " 10  Item_Outlet_Sales          8523 non-null   float64\n",
            "dtypes: float64(4), int64(1), object(6)\n",
            "memory usage: 799.0+ KB\n"
          ]
        }
      ]
    },
    {
      "cell_type": "code",
      "source": [
        "df.isnull().sum()"
      ],
      "metadata": {
        "colab": {
          "base_uri": "https://localhost:8080/"
        },
        "id": "PTadzOctnfEg",
        "outputId": "a97bc5f4-a8e9-42b7-dbbd-202dbef721df"
      },
      "execution_count": null,
      "outputs": [
        {
          "output_type": "execute_result",
          "data": {
            "text/plain": [
              "Item_Weight                  1463\n",
              "Item_Fat_Content                0\n",
              "Item_Visibility                 0\n",
              "Item_Type                       0\n",
              "Item_MRP                        0\n",
              "Outlet_Identifier               0\n",
              "Outlet_Establishment_Year       0\n",
              "Outlet_Size                  2410\n",
              "Outlet_Location_Type            0\n",
              "Outlet_Type                     0\n",
              "Item_Outlet_Sales               0\n",
              "dtype: int64"
            ]
          },
          "metadata": {},
          "execution_count": 8
        }
      ]
    },
    {
      "cell_type": "code",
      "source": [
        "df['Item_Fat_Content'].value_counts()"
      ],
      "metadata": {
        "colab": {
          "base_uri": "https://localhost:8080/"
        },
        "id": "B3RgLjLcKewi",
        "outputId": "fc202dd3-4db3-4726-8d21-298f16742863"
      },
      "execution_count": null,
      "outputs": [
        {
          "output_type": "execute_result",
          "data": {
            "text/plain": [
              "Low Fat    5089\n",
              "Regular    2889\n",
              "LF          316\n",
              "reg         117\n",
              "low fat     112\n",
              "Name: Item_Fat_Content, dtype: int64"
            ]
          },
          "metadata": {},
          "execution_count": 9
        }
      ]
    },
    {
      "cell_type": "code",
      "source": [
        "df.replace({'LF': 'Low Fat'}, inplace = True)\n",
        "df.replace({'reg': 'Regular'}, inplace = True)\n",
        "df.replace({'low fat': 'Low Fat'}, inplace = True)\n"
      ],
      "metadata": {
        "id": "6s4BbUlqOxOj"
      },
      "execution_count": null,
      "outputs": []
    },
    {
      "cell_type": "code",
      "source": [
        "df['Item_Fat_Content'].value_counts()"
      ],
      "metadata": {
        "colab": {
          "base_uri": "https://localhost:8080/"
        },
        "id": "7ZThNYVHPksL",
        "outputId": "7b72178c-9825-44fc-cee5-a300dbe60411"
      },
      "execution_count": null,
      "outputs": [
        {
          "output_type": "execute_result",
          "data": {
            "text/plain": [
              "Low Fat    5517\n",
              "Regular    3006\n",
              "Name: Item_Fat_Content, dtype: int64"
            ]
          },
          "metadata": {},
          "execution_count": 11
        }
      ]
    },
    {
      "cell_type": "code",
      "source": [
        "df['Item_Type'].value_counts()"
      ],
      "metadata": {
        "colab": {
          "base_uri": "https://localhost:8080/"
        },
        "id": "BJGeNq67Pxzq",
        "outputId": "ce3ffa09-3224-4319-ded8-3ade00cf00e4"
      },
      "execution_count": null,
      "outputs": [
        {
          "output_type": "execute_result",
          "data": {
            "text/plain": [
              "Fruits and Vegetables    1232\n",
              "Snack Foods              1200\n",
              "Household                 910\n",
              "Frozen Foods              856\n",
              "Dairy                     682\n",
              "Canned                    649\n",
              "Baking Goods              648\n",
              "Health and Hygiene        520\n",
              "Soft Drinks               445\n",
              "Meat                      425\n",
              "Breads                    251\n",
              "Hard Drinks               214\n",
              "Others                    169\n",
              "Starchy Foods             148\n",
              "Breakfast                 110\n",
              "Seafood                    64\n",
              "Name: Item_Type, dtype: int64"
            ]
          },
          "metadata": {},
          "execution_count": 12
        }
      ]
    },
    {
      "cell_type": "code",
      "source": [
        "df['Outlet_Location_Type'].value_counts()"
      ],
      "metadata": {
        "colab": {
          "base_uri": "https://localhost:8080/"
        },
        "id": "Gt83ocynQVUU",
        "outputId": "19e062b5-96a0-476d-d53c-c3826b379185"
      },
      "execution_count": null,
      "outputs": [
        {
          "output_type": "execute_result",
          "data": {
            "text/plain": [
              "Tier 3    3350\n",
              "Tier 2    2785\n",
              "Tier 1    2388\n",
              "Name: Outlet_Location_Type, dtype: int64"
            ]
          },
          "metadata": {},
          "execution_count": 13
        }
      ]
    },
    {
      "cell_type": "code",
      "source": [
        "df['Outlet_Size'].value_counts()"
      ],
      "metadata": {
        "colab": {
          "base_uri": "https://localhost:8080/"
        },
        "id": "Dbmw3bEYQdUM",
        "outputId": "e963279c-3402-4d9b-9a29-e513d3b0a25c"
      },
      "execution_count": null,
      "outputs": [
        {
          "output_type": "execute_result",
          "data": {
            "text/plain": [
              "Medium    2793\n",
              "Small     2388\n",
              "High       932\n",
              "Name: Outlet_Size, dtype: int64"
            ]
          },
          "metadata": {},
          "execution_count": 14
        }
      ]
    },
    {
      "cell_type": "code",
      "source": [
        "df['Outlet_Type'].value_counts()"
      ],
      "metadata": {
        "colab": {
          "base_uri": "https://localhost:8080/"
        },
        "id": "bf0rRiPXjl7m",
        "outputId": "5405c1a8-92d3-4d5e-b9b5-355e6bf260bc"
      },
      "execution_count": null,
      "outputs": [
        {
          "output_type": "execute_result",
          "data": {
            "text/plain": [
              "Supermarket Type1    5577\n",
              "Grocery Store        1083\n",
              "Supermarket Type3     935\n",
              "Supermarket Type2     928\n",
              "Name: Outlet_Type, dtype: int64"
            ]
          },
          "metadata": {},
          "execution_count": 15
        }
      ]
    },
    {
      "cell_type": "code",
      "source": [
        "df.describe()"
      ],
      "metadata": {
        "colab": {
          "base_uri": "https://localhost:8080/",
          "height": 300
        },
        "id": "owwq1plHZtsh",
        "outputId": "01b783eb-123f-4d67-b11a-e27892f25687"
      },
      "execution_count": null,
      "outputs": [
        {
          "output_type": "execute_result",
          "data": {
            "text/html": [
              "\n",
              "  <div id=\"df-7e5b91fa-f5c4-482a-a3ed-2310d9a04250\">\n",
              "    <div class=\"colab-df-container\">\n",
              "      <div>\n",
              "<style scoped>\n",
              "    .dataframe tbody tr th:only-of-type {\n",
              "        vertical-align: middle;\n",
              "    }\n",
              "\n",
              "    .dataframe tbody tr th {\n",
              "        vertical-align: top;\n",
              "    }\n",
              "\n",
              "    .dataframe thead th {\n",
              "        text-align: right;\n",
              "    }\n",
              "</style>\n",
              "<table border=\"1\" class=\"dataframe\">\n",
              "  <thead>\n",
              "    <tr style=\"text-align: right;\">\n",
              "      <th></th>\n",
              "      <th>Item_Weight</th>\n",
              "      <th>Item_Visibility</th>\n",
              "      <th>Item_MRP</th>\n",
              "      <th>Outlet_Establishment_Year</th>\n",
              "      <th>Item_Outlet_Sales</th>\n",
              "    </tr>\n",
              "  </thead>\n",
              "  <tbody>\n",
              "    <tr>\n",
              "      <th>count</th>\n",
              "      <td>7060.000000</td>\n",
              "      <td>8523.000000</td>\n",
              "      <td>8523.000000</td>\n",
              "      <td>8523.000000</td>\n",
              "      <td>8523.000000</td>\n",
              "    </tr>\n",
              "    <tr>\n",
              "      <th>mean</th>\n",
              "      <td>12.857645</td>\n",
              "      <td>0.066132</td>\n",
              "      <td>140.992782</td>\n",
              "      <td>1997.831867</td>\n",
              "      <td>2181.288914</td>\n",
              "    </tr>\n",
              "    <tr>\n",
              "      <th>std</th>\n",
              "      <td>4.643456</td>\n",
              "      <td>0.051598</td>\n",
              "      <td>62.275067</td>\n",
              "      <td>8.371760</td>\n",
              "      <td>1706.499616</td>\n",
              "    </tr>\n",
              "    <tr>\n",
              "      <th>min</th>\n",
              "      <td>4.555000</td>\n",
              "      <td>0.000000</td>\n",
              "      <td>31.290000</td>\n",
              "      <td>1985.000000</td>\n",
              "      <td>33.290000</td>\n",
              "    </tr>\n",
              "    <tr>\n",
              "      <th>25%</th>\n",
              "      <td>8.773750</td>\n",
              "      <td>0.026989</td>\n",
              "      <td>93.826500</td>\n",
              "      <td>1987.000000</td>\n",
              "      <td>834.247400</td>\n",
              "    </tr>\n",
              "    <tr>\n",
              "      <th>50%</th>\n",
              "      <td>12.600000</td>\n",
              "      <td>0.053931</td>\n",
              "      <td>143.012800</td>\n",
              "      <td>1999.000000</td>\n",
              "      <td>1794.331000</td>\n",
              "    </tr>\n",
              "    <tr>\n",
              "      <th>75%</th>\n",
              "      <td>16.850000</td>\n",
              "      <td>0.094585</td>\n",
              "      <td>185.643700</td>\n",
              "      <td>2004.000000</td>\n",
              "      <td>3101.296400</td>\n",
              "    </tr>\n",
              "    <tr>\n",
              "      <th>max</th>\n",
              "      <td>21.350000</td>\n",
              "      <td>0.328391</td>\n",
              "      <td>266.888400</td>\n",
              "      <td>2009.000000</td>\n",
              "      <td>13086.964800</td>\n",
              "    </tr>\n",
              "  </tbody>\n",
              "</table>\n",
              "</div>\n",
              "      <button class=\"colab-df-convert\" onclick=\"convertToInteractive('df-7e5b91fa-f5c4-482a-a3ed-2310d9a04250')\"\n",
              "              title=\"Convert this dataframe to an interactive table.\"\n",
              "              style=\"display:none;\">\n",
              "        \n",
              "  <svg xmlns=\"http://www.w3.org/2000/svg\" height=\"24px\"viewBox=\"0 0 24 24\"\n",
              "       width=\"24px\">\n",
              "    <path d=\"M0 0h24v24H0V0z\" fill=\"none\"/>\n",
              "    <path d=\"M18.56 5.44l.94 2.06.94-2.06 2.06-.94-2.06-.94-.94-2.06-.94 2.06-2.06.94zm-11 1L8.5 8.5l.94-2.06 2.06-.94-2.06-.94L8.5 2.5l-.94 2.06-2.06.94zm10 10l.94 2.06.94-2.06 2.06-.94-2.06-.94-.94-2.06-.94 2.06-2.06.94z\"/><path d=\"M17.41 7.96l-1.37-1.37c-.4-.4-.92-.59-1.43-.59-.52 0-1.04.2-1.43.59L10.3 9.45l-7.72 7.72c-.78.78-.78 2.05 0 2.83L4 21.41c.39.39.9.59 1.41.59.51 0 1.02-.2 1.41-.59l7.78-7.78 2.81-2.81c.8-.78.8-2.07 0-2.86zM5.41 20L4 18.59l7.72-7.72 1.47 1.35L5.41 20z\"/>\n",
              "  </svg>\n",
              "      </button>\n",
              "      \n",
              "  <style>\n",
              "    .colab-df-container {\n",
              "      display:flex;\n",
              "      flex-wrap:wrap;\n",
              "      gap: 12px;\n",
              "    }\n",
              "\n",
              "    .colab-df-convert {\n",
              "      background-color: #E8F0FE;\n",
              "      border: none;\n",
              "      border-radius: 50%;\n",
              "      cursor: pointer;\n",
              "      display: none;\n",
              "      fill: #1967D2;\n",
              "      height: 32px;\n",
              "      padding: 0 0 0 0;\n",
              "      width: 32px;\n",
              "    }\n",
              "\n",
              "    .colab-df-convert:hover {\n",
              "      background-color: #E2EBFA;\n",
              "      box-shadow: 0px 1px 2px rgba(60, 64, 67, 0.3), 0px 1px 3px 1px rgba(60, 64, 67, 0.15);\n",
              "      fill: #174EA6;\n",
              "    }\n",
              "\n",
              "    [theme=dark] .colab-df-convert {\n",
              "      background-color: #3B4455;\n",
              "      fill: #D2E3FC;\n",
              "    }\n",
              "\n",
              "    [theme=dark] .colab-df-convert:hover {\n",
              "      background-color: #434B5C;\n",
              "      box-shadow: 0px 1px 3px 1px rgba(0, 0, 0, 0.15);\n",
              "      filter: drop-shadow(0px 1px 2px rgba(0, 0, 0, 0.3));\n",
              "      fill: #FFFFFF;\n",
              "    }\n",
              "  </style>\n",
              "\n",
              "      <script>\n",
              "        const buttonEl =\n",
              "          document.querySelector('#df-7e5b91fa-f5c4-482a-a3ed-2310d9a04250 button.colab-df-convert');\n",
              "        buttonEl.style.display =\n",
              "          google.colab.kernel.accessAllowed ? 'block' : 'none';\n",
              "\n",
              "        async function convertToInteractive(key) {\n",
              "          const element = document.querySelector('#df-7e5b91fa-f5c4-482a-a3ed-2310d9a04250');\n",
              "          const dataTable =\n",
              "            await google.colab.kernel.invokeFunction('convertToInteractive',\n",
              "                                                     [key], {});\n",
              "          if (!dataTable) return;\n",
              "\n",
              "          const docLinkHtml = 'Like what you see? Visit the ' +\n",
              "            '<a target=\"_blank\" href=https://colab.research.google.com/notebooks/data_table.ipynb>data table notebook</a>'\n",
              "            + ' to learn more about interactive tables.';\n",
              "          element.innerHTML = '';\n",
              "          dataTable['output_type'] = 'display_data';\n",
              "          await google.colab.output.renderOutput(dataTable, element);\n",
              "          const docLink = document.createElement('div');\n",
              "          docLink.innerHTML = docLinkHtml;\n",
              "          element.appendChild(docLink);\n",
              "        }\n",
              "      </script>\n",
              "    </div>\n",
              "  </div>\n",
              "  "
            ],
            "text/plain": [
              "       Item_Weight  Item_Visibility     Item_MRP  Outlet_Establishment_Year  \\\n",
              "count  7060.000000      8523.000000  8523.000000                8523.000000   \n",
              "mean     12.857645         0.066132   140.992782                1997.831867   \n",
              "std       4.643456         0.051598    62.275067                   8.371760   \n",
              "min       4.555000         0.000000    31.290000                1985.000000   \n",
              "25%       8.773750         0.026989    93.826500                1987.000000   \n",
              "50%      12.600000         0.053931   143.012800                1999.000000   \n",
              "75%      16.850000         0.094585   185.643700                2004.000000   \n",
              "max      21.350000         0.328391   266.888400                2009.000000   \n",
              "\n",
              "       Item_Outlet_Sales  \n",
              "count        8523.000000  \n",
              "mean         2181.288914  \n",
              "std          1706.499616  \n",
              "min            33.290000  \n",
              "25%           834.247400  \n",
              "50%          1794.331000  \n",
              "75%          3101.296400  \n",
              "max         13086.964800  "
            ]
          },
          "metadata": {},
          "execution_count": 16
        }
      ]
    },
    {
      "cell_type": "code",
      "source": [
        "df.isnull().sum()"
      ],
      "metadata": {
        "colab": {
          "base_uri": "https://localhost:8080/"
        },
        "id": "XSSFZNzzQ3j4",
        "outputId": "0ee43cfd-1044-47ff-ec04-9aa9f241b167"
      },
      "execution_count": null,
      "outputs": [
        {
          "output_type": "execute_result",
          "data": {
            "text/plain": [
              "Item_Weight                  1463\n",
              "Item_Fat_Content                0\n",
              "Item_Visibility                 0\n",
              "Item_Type                       0\n",
              "Item_MRP                        0\n",
              "Outlet_Identifier               0\n",
              "Outlet_Establishment_Year       0\n",
              "Outlet_Size                  2410\n",
              "Outlet_Location_Type            0\n",
              "Outlet_Type                     0\n",
              "Item_Outlet_Sales               0\n",
              "dtype: int64"
            ]
          },
          "metadata": {},
          "execution_count": 17
        }
      ]
    },
    {
      "cell_type": "markdown",
      "source": [
        "Dropping Outlet Size will be more than 5% df\n"
      ],
      "metadata": {
        "id": "e6mKO7pbRhio"
      }
    },
    {
      "cell_type": "code",
      "source": [
        "df['Item_Outlet_Sales'].hist();\n",
        "plt.title('Outlet Sales');"
      ],
      "metadata": {
        "colab": {
          "base_uri": "https://localhost:8080/",
          "height": 284
        },
        "id": "KfzWuQEUkYWS",
        "outputId": "72ede660-7be7-4a16-9547-028c059a6f60"
      },
      "execution_count": null,
      "outputs": [
        {
          "output_type": "display_data",
          "data": {
            "image/png": "[encoded data removed]",
            "text/plain": [
              "<Figure size 432x288 with 1 Axes>"
            ]
          },
          "metadata": {
            "needs_background": "light"
          }
        }
      ]
    },
    {
      "cell_type": "code",
      "source": [
        "df.boxplot('Item_MRP')"
      ],
      "metadata": {
        "colab": {
          "base_uri": "https://localhost:8080/",
          "height": 286
        },
        "id": "2dbvIiHHX0ww",
        "outputId": "c85b3760-a3dd-4c91-9444-6fc9805bff3e"
      },
      "execution_count": null,
      "outputs": [
        {
          "output_type": "execute_result",
          "data": {
            "text/plain": [
              "<matplotlib.axes._subplots.AxesSubplot at 0x7f9add4d8410>"
            ]
          },
          "metadata": {},
          "execution_count": 19
        },
        {
          "output_type": "display_data",
          "data": {
            "image/png": "[encoded data removed]",
            "text/plain": [
              "<Figure size 432x288 with 1 Axes>"
            ]
          },
          "metadata": {
            "needs_background": "light"
          }
        }
      ]
    },
    {
      "cell_type": "code",
      "source": [
        "corr = df.corr()\n",
        "plt.figure(figsize=(10,10))\n",
        "sns.heatmap(corr, cmap='Blues', annot=True)"
      ],
      "metadata": {
        "colab": {
          "base_uri": "https://localhost:8080/",
          "height": 753
        },
        "id": "Qx3y0rv-YJ6p",
        "outputId": "ac1a52eb-3dbf-430a-bf2c-b527a35be44d"
      },
      "execution_count": null,
      "outputs": [
        {
          "output_type": "execute_result",
          "data": {
            "text/plain": [
              "<matplotlib.axes._subplots.AxesSubplot at 0x7f9adceea610>"
            ]
          },
          "metadata": {},
          "execution_count": 20
        },
        {
          "output_type": "display_data",
          "data": {
            "image/png": "[encoded data removed]",
            "text/plain": [
              "<Figure size 720x720 with 2 Axes>"
            ]
          },
          "metadata": {
            "needs_background": "light"
          }
        }
      ]
    },
    {
      "cell_type": "code",
      "source": [
        "OS = df.groupby('Outlet_Type')['Item_Outlet_Sales'].mean()\n",
        "OS"
      ],
      "metadata": {
        "colab": {
          "base_uri": "https://localhost:8080/"
        },
        "id": "lD3wGgucmpK-",
        "outputId": "329ab936-0bab-4990-c0b8-3de13bee1167"
      },
      "execution_count": null,
      "outputs": [
        {
          "output_type": "execute_result",
          "data": {
            "text/plain": [
              "Outlet_Type\n",
              "Grocery Store         339.828500\n",
              "Supermarket Type1    2316.181148\n",
              "Supermarket Type2    1995.498739\n",
              "Supermarket Type3    3694.038558\n",
              "Name: Item_Outlet_Sales, dtype: float64"
            ]
          },
          "metadata": {},
          "execution_count": 21
        }
      ]
    },
    {
      "cell_type": "code",
      "source": [
        "# Average sales as per Outlet Type\n",
        "plt.bar(OS.index, OS.values)\n",
        "plt.ylabel('Ave Sales')\n",
        "plt.xlabel('Outlet Type')\n",
        "plt.xticks(rotation = 45)\n",
        "plt.show()"
      ],
      "metadata": {
        "colab": {
          "base_uri": "https://localhost:8080/",
          "height": 358
        },
        "id": "XBKTN4TXW5Vb",
        "outputId": "df975fc8-06ec-41c4-8e83-dfea164319dc"
      },
      "execution_count": null,
      "outputs": [
        {
          "output_type": "display_data",
          "data": {
            "image/png": "[encoded data removed]",
            "text/plain": [
              "<Figure size 432x288 with 1 Axes>"
            ]
          },
          "metadata": {
            "needs_background": "light"
          }
        }
      ]
    },
    {
      "cell_type": "code",
      "source": [
        "IT = df.groupby('Item_Type')['Item_Outlet_Sales'].mean()\n",
        "IT"
      ],
      "metadata": {
        "colab": {
          "base_uri": "https://localhost:8080/"
        },
        "id": "uq0VcTeSZMeE",
        "outputId": "234db25d-7eab-4472-fbf3-48516d94265d"
      },
      "execution_count": null,
      "outputs": [
        {
          "output_type": "execute_result",
          "data": {
            "text/plain": [
              "Item_Type\n",
              "Baking Goods             1952.971207\n",
              "Breads                   2204.132226\n",
              "Breakfast                2111.808651\n",
              "Canned                   2225.194904\n",
              "Dairy                    2232.542597\n",
              "Frozen Foods             2132.867744\n",
              "Fruits and Vegetables    2289.009592\n",
              "Hard Drinks              2139.221622\n",
              "Health and Hygiene       2010.000265\n",
              "Household                2258.784300\n",
              "Meat                     2158.977911\n",
              "Others                   1926.139702\n",
              "Seafood                  2326.065928\n",
              "Snack Foods              2277.321739\n",
              "Soft Drinks              2006.511735\n",
              "Starchy Foods            2374.332773\n",
              "Name: Item_Outlet_Sales, dtype: float64"
            ]
          },
          "metadata": {},
          "execution_count": 23
        }
      ]
    },
    {
      "cell_type": "code",
      "source": [
        "plt.barh(IT.index, IT.values)\n",
        "plt.ylabel('Item_Type')\n",
        "plt.xlabel('Item_Outlet_Sales')\n",
        "plt.xticks(rotation = 90)\n",
        "plt.show()\n"
      ],
      "metadata": {
        "colab": {
          "base_uri": "https://localhost:8080/",
          "height": 303
        },
        "id": "NypylAnqZoJL",
        "outputId": "ee8a5e9f-6f10-43d4-caf9-15ac0fbbaf8e"
      },
      "execution_count": null,
      "outputs": [
        {
          "output_type": "display_data",
          "data": {
            "image/png": "[encoded data removed]",
            "text/plain": [
              "<Figure size 432x288 with 1 Axes>"
            ]
          },
          "metadata": {
            "needs_background": "light"
          }
        }
      ]
    },
    {
      "cell_type": "code",
      "source": [
        "df.head()\n"
      ],
      "metadata": {
        "colab": {
          "base_uri": "https://localhost:8080/",
          "height": 238
        },
        "id": "7d2efQafc65W",
        "outputId": "69687603-268b-4ef6-b096-471a85c9d9bd"
      },
      "execution_count": null,
      "outputs": [
        {
          "output_type": "execute_result",
          "data": {
            "text/html": [
              "\n",
              "  <div id=\"df-17477454-f7ae-452f-aeeb-20822414ccdc\">\n",
              "    <div class=\"colab-df-container\">\n",
              "      <div>\n",
              "<style scoped>\n",
              "    .dataframe tbody tr th:only-of-type {\n",
              "        vertical-align: middle;\n",
              "    }\n",
              "\n",
              "    .dataframe tbody tr th {\n",
              "        vertical-align: top;\n",
              "    }\n",
              "\n",
              "    .dataframe thead th {\n",
              "        text-align: right;\n",
              "    }\n",
              "</style>\n",
              "<table border=\"1\" class=\"dataframe\">\n",
              "  <thead>\n",
              "    <tr style=\"text-align: right;\">\n",
              "      <th></th>\n",
              "      <th>Item_Weight</th>\n",
              "      <th>Item_Fat_Content</th>\n",
              "      <th>Item_Visibility</th>\n",
              "      <th>Item_Type</th>\n",
              "      <th>Item_MRP</th>\n",
              "      <th>Outlet_Identifier</th>\n",
              "      <th>Outlet_Establishment_Year</th>\n",
              "      <th>Outlet_Size</th>\n",
              "      <th>Outlet_Location_Type</th>\n",
              "      <th>Outlet_Type</th>\n",
              "      <th>Item_Outlet_Sales</th>\n",
              "    </tr>\n",
              "    <tr>\n",
              "      <th>Item_Identifier</th>\n",
              "      <th></th>\n",
              "      <th></th>\n",
              "      <th></th>\n",
              "      <th></th>\n",
              "      <th></th>\n",
              "      <th></th>\n",
              "      <th></th>\n",
              "      <th></th>\n",
              "      <th></th>\n",
              "      <th></th>\n",
              "      <th></th>\n",
              "    </tr>\n",
              "  </thead>\n",
              "  <tbody>\n",
              "    <tr>\n",
              "      <th>FDA15</th>\n",
              "      <td>9.30</td>\n",
              "      <td>Low Fat</td>\n",
              "      <td>0.016047</td>\n",
              "      <td>Dairy</td>\n",
              "      <td>249.8092</td>\n",
              "      <td>OUT049</td>\n",
              "      <td>1999</td>\n",
              "      <td>Medium</td>\n",
              "      <td>Tier 1</td>\n",
              "      <td>Supermarket Type1</td>\n",
              "      <td>3735.1380</td>\n",
              "    </tr>\n",
              "    <tr>\n",
              "      <th>DRC01</th>\n",
              "      <td>5.92</td>\n",
              "      <td>Regular</td>\n",
              "      <td>0.019278</td>\n",
              "      <td>Soft Drinks</td>\n",
              "      <td>48.2692</td>\n",
              "      <td>OUT018</td>\n",
              "      <td>2009</td>\n",
              "      <td>Medium</td>\n",
              "      <td>Tier 3</td>\n",
              "      <td>Supermarket Type2</td>\n",
              "      <td>443.4228</td>\n",
              "    </tr>\n",
              "    <tr>\n",
              "      <th>FDN15</th>\n",
              "      <td>17.50</td>\n",
              "      <td>Low Fat</td>\n",
              "      <td>0.016760</td>\n",
              "      <td>Meat</td>\n",
              "      <td>141.6180</td>\n",
              "      <td>OUT049</td>\n",
              "      <td>1999</td>\n",
              "      <td>Medium</td>\n",
              "      <td>Tier 1</td>\n",
              "      <td>Supermarket Type1</td>\n",
              "      <td>2097.2700</td>\n",
              "    </tr>\n",
              "    <tr>\n",
              "      <th>FDX07</th>\n",
              "      <td>19.20</td>\n",
              "      <td>Regular</td>\n",
              "      <td>0.000000</td>\n",
              "      <td>Fruits and Vegetables</td>\n",
              "      <td>182.0950</td>\n",
              "      <td>OUT010</td>\n",
              "      <td>1998</td>\n",
              "      <td>NaN</td>\n",
              "      <td>Tier 3</td>\n",
              "      <td>Grocery Store</td>\n",
              "      <td>732.3800</td>\n",
              "    </tr>\n",
              "    <tr>\n",
              "      <th>NCD19</th>\n",
              "      <td>8.93</td>\n",
              "      <td>Low Fat</td>\n",
              "      <td>0.000000</td>\n",
              "      <td>Household</td>\n",
              "      <td>53.8614</td>\n",
              "      <td>OUT013</td>\n",
              "      <td>1987</td>\n",
              "      <td>High</td>\n",
              "      <td>Tier 3</td>\n",
              "      <td>Supermarket Type1</td>\n",
              "      <td>994.7052</td>\n",
              "    </tr>\n",
              "  </tbody>\n",
              "</table>\n",
              "</div>\n",
              "      <button class=\"colab-df-convert\" onclick=\"convertToInteractive('df-17477454-f7ae-452f-aeeb-20822414ccdc')\"\n",
              "              title=\"Convert this dataframe to an interactive table.\"\n",
              "              style=\"display:none;\">\n",
              "        \n",
              "  <svg xmlns=\"http://www.w3.org/2000/svg\" height=\"24px\"viewBox=\"0 0 24 24\"\n",
              "       width=\"24px\">\n",
              "    <path d=\"M0 0h24v24H0V0z\" fill=\"none\"/>\n",
              "    <path d=\"M18.56 5.44l.94 2.06.94-2.06 2.06-.94-2.06-.94-.94-2.06-.94 2.06-2.06.94zm-11 1L8.5 8.5l.94-2.06 2.06-.94-2.06-.94L8.5 2.5l-.94 2.06-2.06.94zm10 10l.94 2.06.94-2.06 2.06-.94-2.06-.94-.94-2.06-.94 2.06-2.06.94z\"/><path d=\"M17.41 7.96l-1.37-1.37c-.4-.4-.92-.59-1.43-.59-.52 0-1.04.2-1.43.59L10.3 9.45l-7.72 7.72c-.78.78-.78 2.05 0 2.83L4 21.41c.39.39.9.59 1.41.59.51 0 1.02-.2 1.41-.59l7.78-7.78 2.81-2.81c.8-.78.8-2.07 0-2.86zM5.41 20L4 18.59l7.72-7.72 1.47 1.35L5.41 20z\"/>\n",
              "  </svg>\n",
              "      </button>\n",
              "      \n",
              "  <style>\n",
              "    .colab-df-container {\n",
              "      display:flex;\n",
              "      flex-wrap:wrap;\n",
              "      gap: 12px;\n",
              "    }\n",
              "\n",
              "    .colab-df-convert {\n",
              "      background-color: #E8F0FE;\n",
              "      border: none;\n",
              "      border-radius: 50%;\n",
              "      cursor: pointer;\n",
              "      display: none;\n",
              "      fill: #1967D2;\n",
              "      height: 32px;\n",
              "      padding: 0 0 0 0;\n",
              "      width: 32px;\n",
              "    }\n",
              "\n",
              "    .colab-df-convert:hover {\n",
              "      background-color: #E2EBFA;\n",
              "      box-shadow: 0px 1px 2px rgba(60, 64, 67, 0.3), 0px 1px 3px 1px rgba(60, 64, 67, 0.15);\n",
              "      fill: #174EA6;\n",
              "    }\n",
              "\n",
              "    [theme=dark] .colab-df-convert {\n",
              "      background-color: #3B4455;\n",
              "      fill: #D2E3FC;\n",
              "    }\n",
              "\n",
              "    [theme=dark] .colab-df-convert:hover {\n",
              "      background-color: #434B5C;\n",
              "      box-shadow: 0px 1px 3px 1px rgba(0, 0, 0, 0.15);\n",
              "      filter: drop-shadow(0px 1px 2px rgba(0, 0, 0, 0.3));\n",
              "      fill: #FFFFFF;\n",
              "    }\n",
              "  </style>\n",
              "\n",
              "      <script>\n",
              "        const buttonEl =\n",
              "          document.querySelector('#df-17477454-f7ae-452f-aeeb-20822414ccdc button.colab-df-convert');\n",
              "        buttonEl.style.display =\n",
              "          google.colab.kernel.accessAllowed ? 'block' : 'none';\n",
              "\n",
              "        async function convertToInteractive(key) {\n",
              "          const element = document.querySelector('#df-17477454-f7ae-452f-aeeb-20822414ccdc');\n",
              "          const dataTable =\n",
              "            await google.colab.kernel.invokeFunction('convertToInteractive',\n",
              "                                                     [key], {});\n",
              "          if (!dataTable) return;\n",
              "\n",
              "          const docLinkHtml = 'Like what you see? Visit the ' +\n",
              "            '<a target=\"_blank\" href=https://colab.research.google.com/notebooks/data_table.ipynb>data table notebook</a>'\n",
              "            + ' to learn more about interactive tables.';\n",
              "          element.innerHTML = '';\n",
              "          dataTable['output_type'] = 'display_data';\n",
              "          await google.colab.output.renderOutput(dataTable, element);\n",
              "          const docLink = document.createElement('div');\n",
              "          docLink.innerHTML = docLinkHtml;\n",
              "          element.appendChild(docLink);\n",
              "        }\n",
              "      </script>\n",
              "    </div>\n",
              "  </div>\n",
              "  "
            ],
            "text/plain": [
              "                 Item_Weight Item_Fat_Content  Item_Visibility  \\\n",
              "Item_Identifier                                                  \n",
              "FDA15                   9.30          Low Fat         0.016047   \n",
              "DRC01                   5.92          Regular         0.019278   \n",
              "FDN15                  17.50          Low Fat         0.016760   \n",
              "FDX07                  19.20          Regular         0.000000   \n",
              "NCD19                   8.93          Low Fat         0.000000   \n",
              "\n",
              "                             Item_Type  Item_MRP Outlet_Identifier  \\\n",
              "Item_Identifier                                                      \n",
              "FDA15                            Dairy  249.8092            OUT049   \n",
              "DRC01                      Soft Drinks   48.2692            OUT018   \n",
              "FDN15                             Meat  141.6180            OUT049   \n",
              "FDX07            Fruits and Vegetables  182.0950            OUT010   \n",
              "NCD19                        Household   53.8614            OUT013   \n",
              "\n",
              "                 Outlet_Establishment_Year Outlet_Size Outlet_Location_Type  \\\n",
              "Item_Identifier                                                               \n",
              "FDA15                                 1999      Medium               Tier 1   \n",
              "DRC01                                 2009      Medium               Tier 3   \n",
              "FDN15                                 1999      Medium               Tier 1   \n",
              "FDX07                                 1998         NaN               Tier 3   \n",
              "NCD19                                 1987        High               Tier 3   \n",
              "\n",
              "                       Outlet_Type  Item_Outlet_Sales  \n",
              "Item_Identifier                                        \n",
              "FDA15            Supermarket Type1          3735.1380  \n",
              "DRC01            Supermarket Type2           443.4228  \n",
              "FDN15            Supermarket Type1          2097.2700  \n",
              "FDX07                Grocery Store           732.3800  \n",
              "NCD19            Supermarket Type1           994.7052  "
            ]
          },
          "metadata": {},
          "execution_count": 25
        }
      ]
    },
    {
      "cell_type": "code",
      "source": [
        "OutletSiSa = df.groupby('Outlet_Size')['Item_Outlet_Sales'].mean()\n",
        "OutletSiSa"
      ],
      "metadata": {
        "colab": {
          "base_uri": "https://localhost:8080/"
        },
        "id": "iyU24ZAnc_8s",
        "outputId": "64a0deeb-0ab8-46fd-91d0-a3040112f9b1"
      },
      "execution_count": null,
      "outputs": [
        {
          "output_type": "execute_result",
          "data": {
            "text/plain": [
              "Outlet_Size\n",
              "High      2298.995256\n",
              "Medium    2681.603542\n",
              "Small     1912.149161\n",
              "Name: Item_Outlet_Sales, dtype: float64"
            ]
          },
          "metadata": {},
          "execution_count": 26
        }
      ]
    },
    {
      "cell_type": "code",
      "source": [
        "plt.bar(OutletSiSa.index, OutletSiSa.values)\n",
        "plt.ylabel('Item_Outlet_Sales')\n",
        "plt.xlabel('Outlet_Size')\n",
        "plt.xticks(rotation = 45)\n",
        "plt.show()"
      ],
      "metadata": {
        "colab": {
          "base_uri": "https://localhost:8080/",
          "height": 313
        },
        "id": "Pd_8MywQgujx",
        "outputId": "bf65a30e-1224-421e-92eb-12335278f935"
      },
      "execution_count": null,
      "outputs": [
        {
          "output_type": "display_data",
          "data": {
            "image/png": "[encoded data removed]",
            "text/plain": [
              "<Figure size 432x288 with 1 Axes>"
            ]
          },
          "metadata": {
            "needs_background": "light"
          }
        }
      ]
    },
    {
      "cell_type": "markdown",
      "source": [
        "Graph shows item outlet sales based on outlet size.\n"
      ],
      "metadata": {
        "id": "_QY-zyB-noCx"
      }
    },
    {
      "cell_type": "code",
      "source": [
        "sns.barplot(x=\"Item_Type\", y=\"Item_Outlet_Sales\", data = df)\n",
        "sns.set(rc={'figure.figsize':(20,5)})\n",
        "plt.ylabel('Outlet Sales', fontsize=18)\n",
        "plt.xlabel('Item Type', fontsize=18)\n",
        "plt.suptitle('Outlet Sales per Item Type', fontsize=25)\n",
        "plt.xticks(rotation=45,ha='right');\n",
        "\n"
      ],
      "metadata": {
        "id": "55sC2sv7n1Qc",
        "colab": {
          "base_uri": "https://localhost:8080/",
          "height": 400
        },
        "outputId": "f2bc6b37-25ed-4422-ae03-f33a2e99081e"
      },
      "execution_count": null,
      "outputs": [
        {
          "output_type": "display_data",
          "data": {
            "image/png": "[encoded data removed]",
            "text/plain": [
              "<Figure size 432x288 with 1 Axes>"
            ]
          },
          "metadata": {
            "needs_background": "light"
          }
        }
      ]
    },
    {
      "cell_type": "markdown",
      "source": [
        "Graph indicating the outlet sales by item type."
      ],
      "metadata": {
        "id": "Uuw1-NN1vvG_"
      }
    },
    {
      "cell_type": "code",
      "source": [
        "# sales based on location\n",
        "Loctype = df.groupby('Outlet_Location_Type')['Item_Outlet_Sales'].mean()\n",
        "Loctype"
      ],
      "metadata": {
        "colab": {
          "base_uri": "https://localhost:8080/"
        },
        "id": "HzdDjS14taKj",
        "outputId": "35061a37-535e-4d50-9422-5bab2914a321"
      },
      "execution_count": null,
      "outputs": [
        {
          "output_type": "execute_result",
          "data": {
            "text/plain": [
              "Outlet_Location_Type\n",
              "Tier 1    1876.909159\n",
              "Tier 2    2323.990559\n",
              "Tier 3    2279.627651\n",
              "Name: Item_Outlet_Sales, dtype: float64"
            ]
          },
          "metadata": {},
          "execution_count": 29
        }
      ]
    },
    {
      "cell_type": "code",
      "source": [
        "plt.barh(Loctype.index, Loctype.values)\n",
        "plt.ylabel('Location Type', fontsize=15)\n",
        "plt.xlabel('Item Location Sales', fontsize=15)\n",
        "plt.xticks(rotation = 90)\n",
        "plt.suptitle('Item outlet Sales based on Location Type', fontsize=25)\n",
        "plt.show()"
      ],
      "metadata": {
        "colab": {
          "base_uri": "https://localhost:8080/",
          "height": 395
        },
        "id": "rTtZKlo6uVFB",
        "outputId": "ee47c354-1d35-4610-f179-691fe0d2dce0"
      },
      "execution_count": null,
      "outputs": [
        {
          "output_type": "display_data",
          "data": {
            "image/png": "[encoded data removed]",
            "text/plain": [
              "<Figure size 1440x360 with 1 Axes>"
            ]
          },
          "metadata": {}
        }
      ]
    },
    {
      "cell_type": "markdown",
      "source": [
        "Project 1 Part 5"
      ],
      "metadata": {
        "id": "hoAHWUJVpG63"
      }
    },
    {
      "cell_type": "code",
      "source": [
        "X = df.drop(columns = ['Item_Outlet_Sales', 'Outlet_Identifier'])\n",
        "y = df['Item_Outlet_Sales']"
      ],
      "metadata": {
        "id": "F2bGWfyxpKIM"
      },
      "execution_count": null,
      "outputs": []
    },
    {
      "cell_type": "code",
      "source": [
        "# train test split\n",
        "X_train, X_test, y_train, y_test = train_test_split(X, y, random_state=42)"
      ],
      "metadata": {
        "id": "mC9DveaZqJlH"
      },
      "execution_count": null,
      "outputs": []
    },
    {
      "cell_type": "code",
      "source": [
        "# column selectors\n",
        "numerical_selector = make_column_selector(dtype_include='number')\n",
        "categorical_selector = make_column_selector(dtype_include='object')"
      ],
      "metadata": {
        "id": "B5Jlyom-qOCd"
      },
      "execution_count": null,
      "outputs": []
    },
    {
      "cell_type": "code",
      "source": [
        "# Scaler, Imputer, OHE\n",
        "scaler = StandardScaler()\n",
        "# OHE\n",
        "ohe = OneHotEncoder(sparse=False, handle_unknown='ignore')\n",
        "# Imputer\n",
        "mean_imputer = SimpleImputer(strategy='mean')\n",
        "freq_imputer = SimpleImputer(strategy='most_frequent')"
      ],
      "metadata": {
        "id": "LDxWP_LYqVr8"
      },
      "execution_count": null,
      "outputs": []
    },
    {
      "cell_type": "code",
      "source": [
        "numerical_pipeline = make_pipeline(mean_imputer, scaler)\n",
        "numerical_pipeline"
      ],
      "metadata": {
        "colab": {
          "base_uri": "https://localhost:8080/",
          "height": 126
        },
        "id": "gHRnxl7pqZFn",
        "outputId": "384fbf62-17d4-4a5b-8396-838b25ca43f8"
      },
      "execution_count": null,
      "outputs": [
        {
          "output_type": "execute_result",
          "data": {
            "text/html": [
              "<style>#sk-03b848b9-f7dc-4912-ba6a-e48bc2323ef1 {color: black;background-color: white;}#sk-03b848b9-f7dc-4912-ba6a-e48bc2323ef1 pre{padding: 0;}#sk-03b848b9-f7dc-4912-ba6a-e48bc2323ef1 div.sk-toggleable {background-color: white;}#sk-03b848b9-f7dc-4912-ba6a-e48bc2323ef1 label.sk-toggleable__label {cursor: pointer;display: block;width: 100%;margin-bottom: 0;padding: 0.3em;box-sizing: border-box;text-align: center;}#sk-03b848b9-f7dc-4912-ba6a-e48bc2323ef1 label.sk-toggleable__label-arrow:before {content: \"▸\";float: left;margin-right: 0.25em;color: #696969;}#sk-03b848b9-f7dc-4912-ba6a-e48bc2323ef1 label.sk-toggleable__label-arrow:hover:before {color: black;}#sk-03b848b9-f7dc-4912-ba6a-e48bc2323ef1 div.sk-estimator:hover label.sk-toggleable__label-arrow:before {color: black;}#sk-03b848b9-f7dc-4912-ba6a-e48bc2323ef1 div.sk-toggleable__content {max-height: 0;max-width: 0;overflow: hidden;text-align: left;background-color: #f0f8ff;}#sk-03b848b9-f7dc-4912-ba6a-e48bc2323ef1 div.sk-toggleable__content pre {margin: 0.2em;color: black;border-radius: 0.25em;background-color: #f0f8ff;}#sk-03b848b9-f7dc-4912-ba6a-e48bc2323ef1 input.sk-toggleable__control:checked~div.sk-toggleable__content {max-height: 200px;max-width: 100%;overflow: auto;}#sk-03b848b9-f7dc-4912-ba6a-e48bc2323ef1 input.sk-toggleable__control:checked~label.sk-toggleable__label-arrow:before {content: \"▾\";}#sk-03b848b9-f7dc-4912-ba6a-e48bc2323ef1 div.sk-estimator input.sk-toggleable__control:checked~label.sk-toggleable__label {background-color: #d4ebff;}#sk-03b848b9-f7dc-4912-ba6a-e48bc2323ef1 div.sk-label input.sk-toggleable__control:checked~label.sk-toggleable__label {background-color: #d4ebff;}#sk-03b848b9-f7dc-4912-ba6a-e48bc2323ef1 input.sk-hidden--visually {border: 0;clip: rect(1px 1px 1px 1px);clip: rect(1px, 1px, 1px, 1px);height: 1px;margin: -1px;overflow: hidden;padding: 0;position: absolute;width: 1px;}#sk-03b848b9-f7dc-4912-ba6a-e48bc2323ef1 div.sk-estimator {font-family: monospace;background-color: #f0f8ff;border: 1px dotted black;border-radius: 0.25em;box-sizing: border-box;margin-bottom: 0.5em;}#sk-03b848b9-f7dc-4912-ba6a-e48bc2323ef1 div.sk-estimator:hover {background-color: #d4ebff;}#sk-03b848b9-f7dc-4912-ba6a-e48bc2323ef1 div.sk-parallel-item::after {content: \"\";width: 100%;border-bottom: 1px solid gray;flex-grow: 1;}#sk-03b848b9-f7dc-4912-ba6a-e48bc2323ef1 div.sk-label:hover label.sk-toggleable__label {background-color: #d4ebff;}#sk-03b848b9-f7dc-4912-ba6a-e48bc2323ef1 div.sk-serial::before {content: \"\";position: absolute;border-left: 1px solid gray;box-sizing: border-box;top: 2em;bottom: 0;left: 50%;}#sk-03b848b9-f7dc-4912-ba6a-e48bc2323ef1 div.sk-serial {display: flex;flex-direction: column;align-items: center;background-color: white;padding-right: 0.2em;padding-left: 0.2em;}#sk-03b848b9-f7dc-4912-ba6a-e48bc2323ef1 div.sk-item {z-index: 1;}#sk-03b848b9-f7dc-4912-ba6a-e48bc2323ef1 div.sk-parallel {display: flex;align-items: stretch;justify-content: center;background-color: white;}#sk-03b848b9-f7dc-4912-ba6a-e48bc2323ef1 div.sk-parallel::before {content: \"\";position: absolute;border-left: 1px solid gray;box-sizing: border-box;top: 2em;bottom: 0;left: 50%;}#sk-03b848b9-f7dc-4912-ba6a-e48bc2323ef1 div.sk-parallel-item {display: flex;flex-direction: column;position: relative;background-color: white;}#sk-03b848b9-f7dc-4912-ba6a-e48bc2323ef1 div.sk-parallel-item:first-child::after {align-self: flex-end;width: 50%;}#sk-03b848b9-f7dc-4912-ba6a-e48bc2323ef1 div.sk-parallel-item:last-child::after {align-self: flex-start;width: 50%;}#sk-03b848b9-f7dc-4912-ba6a-e48bc2323ef1 div.sk-parallel-item:only-child::after {width: 0;}#sk-03b848b9-f7dc-4912-ba6a-e48bc2323ef1 div.sk-dashed-wrapped {border: 1px dashed gray;margin: 0 0.4em 0.5em 0.4em;box-sizing: border-box;padding-bottom: 0.4em;background-color: white;position: relative;}#sk-03b848b9-f7dc-4912-ba6a-e48bc2323ef1 div.sk-label label {font-family: monospace;font-weight: bold;background-color: white;display: inline-block;line-height: 1.2em;}#sk-03b848b9-f7dc-4912-ba6a-e48bc2323ef1 div.sk-label-container {position: relative;z-index: 2;text-align: center;}#sk-03b848b9-f7dc-4912-ba6a-e48bc2323ef1 div.sk-container {/* jupyter's `normalize.less` sets `[hidden] { display: none; }` but bootstrap.min.css set `[hidden] { display: none !important; }` so we also need the `!important` here to be able to override the default hidden behavior on the sphinx rendered scikit-learn.org. See: https://github.com/scikit-learn/scikit-learn/issues/21755 */display: inline-block !important;position: relative;}#sk-03b848b9-f7dc-4912-ba6a-e48bc2323ef1 div.sk-text-repr-fallback {display: none;}</style><div id=\"sk-03b848b9-f7dc-4912-ba6a-e48bc2323ef1\" class=\"sk-top-container\"><div class=\"sk-text-repr-fallback\"><pre>Pipeline(steps=[(&#x27;simpleimputer&#x27;, SimpleImputer()),\n",
              "                (&#x27;standardscaler&#x27;, StandardScaler())])</pre><b>Please rerun this cell to show the HTML repr or trust the notebook.</b></div><div class=\"sk-container\" hidden><div class=\"sk-item sk-dashed-wrapped\"><div class=\"sk-label-container\"><div class=\"sk-label sk-toggleable\"><input class=\"sk-toggleable__control sk-hidden--visually\" id=\"e0ba4dd5-19fc-4fd3-9c89-1aa3ba909213\" type=\"checkbox\" ><label for=\"e0ba4dd5-19fc-4fd3-9c89-1aa3ba909213\" class=\"sk-toggleable__label sk-toggleable__label-arrow\">Pipeline</label><div class=\"sk-toggleable__content\"><pre>Pipeline(steps=[(&#x27;simpleimputer&#x27;, SimpleImputer()),\n",
              "                (&#x27;standardscaler&#x27;, StandardScaler())])</pre></div></div></div><div class=\"sk-serial\"><div class=\"sk-item\"><div class=\"sk-estimator sk-toggleable\"><input class=\"sk-toggleable__control sk-hidden--visually\" id=\"cb349855-2e52-44cd-982f-edd6abe86d99\" type=\"checkbox\" ><label for=\"cb349855-2e52-44cd-982f-edd6abe86d99\" class=\"sk-toggleable__label sk-toggleable__label-arrow\">SimpleImputer</label><div class=\"sk-toggleable__content\"><pre>SimpleImputer()</pre></div></div></div><div class=\"sk-item\"><div class=\"sk-estimator sk-toggleable\"><input class=\"sk-toggleable__control sk-hidden--visually\" id=\"733ebc17-a261-40c1-9449-b2d9c86facba\" type=\"checkbox\" ><label for=\"733ebc17-a261-40c1-9449-b2d9c86facba\" class=\"sk-toggleable__label sk-toggleable__label-arrow\">StandardScaler</label><div class=\"sk-toggleable__content\"><pre>StandardScaler()</pre></div></div></div></div></div></div></div>"
            ],
            "text/plain": [
              "Pipeline(steps=[('simpleimputer', SimpleImputer()),\n",
              "                ('standardscaler', StandardScaler())])"
            ]
          },
          "metadata": {},
          "execution_count": 35
        }
      ]
    },
    {
      "cell_type": "code",
      "source": [
        "categorical_pipeline=make_pipeline(freq_imputer, ohe)\n",
        "categorical_pipeline"
      ],
      "metadata": {
        "colab": {
          "base_uri": "https://localhost:8080/",
          "height": 126
        },
        "id": "_v6_NchNqcB8",
        "outputId": "afad7c32-c527-4603-debc-507cb4021ce3"
      },
      "execution_count": null,
      "outputs": [
        {
          "output_type": "execute_result",
          "data": {
            "text/html": [
              "<style>#sk-cfb082b4-ab77-40a8-bda9-d54e75af7089 {color: black;background-color: white;}#sk-cfb082b4-ab77-40a8-bda9-d54e75af7089 pre{padding: 0;}#sk-cfb082b4-ab77-40a8-bda9-d54e75af7089 div.sk-toggleable {background-color: white;}#sk-cfb082b4-ab77-40a8-bda9-d54e75af7089 label.sk-toggleable__label {cursor: pointer;display: block;width: 100%;margin-bottom: 0;padding: 0.3em;box-sizing: border-box;text-align: center;}#sk-cfb082b4-ab77-40a8-bda9-d54e75af7089 label.sk-toggleable__label-arrow:before {content: \"▸\";float: left;margin-right: 0.25em;color: #696969;}#sk-cfb082b4-ab77-40a8-bda9-d54e75af7089 label.sk-toggleable__label-arrow:hover:before {color: black;}#sk-cfb082b4-ab77-40a8-bda9-d54e75af7089 div.sk-estimator:hover label.sk-toggleable__label-arrow:before {color: black;}#sk-cfb082b4-ab77-40a8-bda9-d54e75af7089 div.sk-toggleable__content {max-height: 0;max-width: 0;overflow: hidden;text-align: left;background-color: #f0f8ff;}#sk-cfb082b4-ab77-40a8-bda9-d54e75af7089 div.sk-toggleable__content pre {margin: 0.2em;color: black;border-radius: 0.25em;background-color: #f0f8ff;}#sk-cfb082b4-ab77-40a8-bda9-d54e75af7089 input.sk-toggleable__control:checked~div.sk-toggleable__content {max-height: 200px;max-width: 100%;overflow: auto;}#sk-cfb082b4-ab77-40a8-bda9-d54e75af7089 input.sk-toggleable__control:checked~label.sk-toggleable__label-arrow:before {content: \"▾\";}#sk-cfb082b4-ab77-40a8-bda9-d54e75af7089 div.sk-estimator input.sk-toggleable__control:checked~label.sk-toggleable__label {background-color: #d4ebff;}#sk-cfb082b4-ab77-40a8-bda9-d54e75af7089 div.sk-label input.sk-toggleable__control:checked~label.sk-toggleable__label {background-color: #d4ebff;}#sk-cfb082b4-ab77-40a8-bda9-d54e75af7089 input.sk-hidden--visually {border: 0;clip: rect(1px 1px 1px 1px);clip: rect(1px, 1px, 1px, 1px);height: 1px;margin: -1px;overflow: hidden;padding: 0;position: absolute;width: 1px;}#sk-cfb082b4-ab77-40a8-bda9-d54e75af7089 div.sk-estimator {font-family: monospace;background-color: #f0f8ff;border: 1px dotted black;border-radius: 0.25em;box-sizing: border-box;margin-bottom: 0.5em;}#sk-cfb082b4-ab77-40a8-bda9-d54e75af7089 div.sk-estimator:hover {background-color: #d4ebff;}#sk-cfb082b4-ab77-40a8-bda9-d54e75af7089 div.sk-parallel-item::after {content: \"\";width: 100%;border-bottom: 1px solid gray;flex-grow: 1;}#sk-cfb082b4-ab77-40a8-bda9-d54e75af7089 div.sk-label:hover label.sk-toggleable__label {background-color: #d4ebff;}#sk-cfb082b4-ab77-40a8-bda9-d54e75af7089 div.sk-serial::before {content: \"\";position: absolute;border-left: 1px solid gray;box-sizing: border-box;top: 2em;bottom: 0;left: 50%;}#sk-cfb082b4-ab77-40a8-bda9-d54e75af7089 div.sk-serial {display: flex;flex-direction: column;align-items: center;background-color: white;padding-right: 0.2em;padding-left: 0.2em;}#sk-cfb082b4-ab77-40a8-bda9-d54e75af7089 div.sk-item {z-index: 1;}#sk-cfb082b4-ab77-40a8-bda9-d54e75af7089 div.sk-parallel {display: flex;align-items: stretch;justify-content: center;background-color: white;}#sk-cfb082b4-ab77-40a8-bda9-d54e75af7089 div.sk-parallel::before {content: \"\";position: absolute;border-left: 1px solid gray;box-sizing: border-box;top: 2em;bottom: 0;left: 50%;}#sk-cfb082b4-ab77-40a8-bda9-d54e75af7089 div.sk-parallel-item {display: flex;flex-direction: column;position: relative;background-color: white;}#sk-cfb082b4-ab77-40a8-bda9-d54e75af7089 div.sk-parallel-item:first-child::after {align-self: flex-end;width: 50%;}#sk-cfb082b4-ab77-40a8-bda9-d54e75af7089 div.sk-parallel-item:last-child::after {align-self: flex-start;width: 50%;}#sk-cfb082b4-ab77-40a8-bda9-d54e75af7089 div.sk-parallel-item:only-child::after {width: 0;}#sk-cfb082b4-ab77-40a8-bda9-d54e75af7089 div.sk-dashed-wrapped {border: 1px dashed gray;margin: 0 0.4em 0.5em 0.4em;box-sizing: border-box;padding-bottom: 0.4em;background-color: white;position: relative;}#sk-cfb082b4-ab77-40a8-bda9-d54e75af7089 div.sk-label label {font-family: monospace;font-weight: bold;background-color: white;display: inline-block;line-height: 1.2em;}#sk-cfb082b4-ab77-40a8-bda9-d54e75af7089 div.sk-label-container {position: relative;z-index: 2;text-align: center;}#sk-cfb082b4-ab77-40a8-bda9-d54e75af7089 div.sk-container {/* jupyter's `normalize.less` sets `[hidden] { display: none; }` but bootstrap.min.css set `[hidden] { display: none !important; }` so we also need the `!important` here to be able to override the default hidden behavior on the sphinx rendered scikit-learn.org. See: https://github.com/scikit-learn/scikit-learn/issues/21755 */display: inline-block !important;position: relative;}#sk-cfb082b4-ab77-40a8-bda9-d54e75af7089 div.sk-text-repr-fallback {display: none;}</style><div id=\"sk-cfb082b4-ab77-40a8-bda9-d54e75af7089\" class=\"sk-top-container\"><div class=\"sk-text-repr-fallback\"><pre>Pipeline(steps=[(&#x27;simpleimputer&#x27;, SimpleImputer(strategy=&#x27;most_frequent&#x27;)),\n",
              "                (&#x27;onehotencoder&#x27;,\n",
              "                 OneHotEncoder(handle_unknown=&#x27;ignore&#x27;, sparse=False))])</pre><b>Please rerun this cell to show the HTML repr or trust the notebook.</b></div><div class=\"sk-container\" hidden><div class=\"sk-item sk-dashed-wrapped\"><div class=\"sk-label-container\"><div class=\"sk-label sk-toggleable\"><input class=\"sk-toggleable__control sk-hidden--visually\" id=\"2bfe9f5e-0e91-4dc2-b279-08daecc83378\" type=\"checkbox\" ><label for=\"2bfe9f5e-0e91-4dc2-b279-08daecc83378\" class=\"sk-toggleable__label sk-toggleable__label-arrow\">Pipeline</label><div class=\"sk-toggleable__content\"><pre>Pipeline(steps=[(&#x27;simpleimputer&#x27;, SimpleImputer(strategy=&#x27;most_frequent&#x27;)),\n",
              "                (&#x27;onehotencoder&#x27;,\n",
              "                 OneHotEncoder(handle_unknown=&#x27;ignore&#x27;, sparse=False))])</pre></div></div></div><div class=\"sk-serial\"><div class=\"sk-item\"><div class=\"sk-estimator sk-toggleable\"><input class=\"sk-toggleable__control sk-hidden--visually\" id=\"c39914fb-fd6b-4535-9155-269385c536ad\" type=\"checkbox\" ><label for=\"c39914fb-fd6b-4535-9155-269385c536ad\" class=\"sk-toggleable__label sk-toggleable__label-arrow\">SimpleImputer</label><div class=\"sk-toggleable__content\"><pre>SimpleImputer(strategy=&#x27;most_frequent&#x27;)</pre></div></div></div><div class=\"sk-item\"><div class=\"sk-estimator sk-toggleable\"><input class=\"sk-toggleable__control sk-hidden--visually\" id=\"7802dcf1-9f23-421b-b412-9694f87c2ab4\" type=\"checkbox\" ><label for=\"7802dcf1-9f23-421b-b412-9694f87c2ab4\" class=\"sk-toggleable__label sk-toggleable__label-arrow\">OneHotEncoder</label><div class=\"sk-toggleable__content\"><pre>OneHotEncoder(handle_unknown=&#x27;ignore&#x27;, sparse=False)</pre></div></div></div></div></div></div></div>"
            ],
            "text/plain": [
              "Pipeline(steps=[('simpleimputer', SimpleImputer(strategy='most_frequent')),\n",
              "                ('onehotencoder',\n",
              "                 OneHotEncoder(handle_unknown='ignore', sparse=False))])"
            ]
          },
          "metadata": {},
          "execution_count": 36
        }
      ]
    },
    {
      "cell_type": "code",
      "source": [
        "# Tuples for ColumnTransformer\n",
        "numerical_tuple = (numerical_pipeline, numerical_selector)\n",
        "categorical_tuple = (categorical_pipeline, categorical_selector)"
      ],
      "metadata": {
        "id": "zkGBhDtMqg9I"
      },
      "execution_count": null,
      "outputs": []
    },
    {
      "cell_type": "code",
      "source": [
        "column_transformer = (make_column_transformer(numerical_tuple, categorical_tuple, remainder='passthrough'))\n",
        "column_transformer"
      ],
      "metadata": {
        "colab": {
          "base_uri": "https://localhost:8080/",
          "height": 152
        },
        "id": "WCevsxHCqmst",
        "outputId": "4afbe6d8-4b34-49c2-991d-7c328d8648c0"
      },
      "execution_count": null,
      "outputs": [
        {
          "output_type": "execute_result",
          "data": {
            "text/html": [
              "<style>#sk-347b64f8-835c-43d5-9c58-988eafef0829 {color: black;background-color: white;}#sk-347b64f8-835c-43d5-9c58-988eafef0829 pre{padding: 0;}#sk-347b64f8-835c-43d5-9c58-988eafef0829 div.sk-toggleable {background-color: white;}#sk-347b64f8-835c-43d5-9c58-988eafef0829 label.sk-toggleable__label {cursor: pointer;display: block;width: 100%;margin-bottom: 0;padding: 0.3em;box-sizing: border-box;text-align: center;}#sk-347b64f8-835c-43d5-9c58-988eafef0829 label.sk-toggleable__label-arrow:before {content: \"▸\";float: left;margin-right: 0.25em;color: #696969;}#sk-347b64f8-835c-43d5-9c58-988eafef0829 label.sk-toggleable__label-arrow:hover:before {color: black;}#sk-347b64f8-835c-43d5-9c58-988eafef0829 div.sk-estimator:hover label.sk-toggleable__label-arrow:before {color: black;}#sk-347b64f8-835c-43d5-9c58-988eafef0829 div.sk-toggleable__content {max-height: 0;max-width: 0;overflow: hidden;text-align: left;background-color: #f0f8ff;}#sk-347b64f8-835c-43d5-9c58-988eafef0829 div.sk-toggleable__content pre {margin: 0.2em;color: black;border-radius: 0.25em;background-color: #f0f8ff;}#sk-347b64f8-835c-43d5-9c58-988eafef0829 input.sk-toggleable__control:checked~div.sk-toggleable__content {max-height: 200px;max-width: 100%;overflow: auto;}#sk-347b64f8-835c-43d5-9c58-988eafef0829 input.sk-toggleable__control:checked~label.sk-toggleable__label-arrow:before {content: \"▾\";}#sk-347b64f8-835c-43d5-9c58-988eafef0829 div.sk-estimator input.sk-toggleable__control:checked~label.sk-toggleable__label {background-color: #d4ebff;}#sk-347b64f8-835c-43d5-9c58-988eafef0829 div.sk-label input.sk-toggleable__control:checked~label.sk-toggleable__label {background-color: #d4ebff;}#sk-347b64f8-835c-43d5-9c58-988eafef0829 input.sk-hidden--visually {border: 0;clip: rect(1px 1px 1px 1px);clip: rect(1px, 1px, 1px, 1px);height: 1px;margin: -1px;overflow: hidden;padding: 0;position: absolute;width: 1px;}#sk-347b64f8-835c-43d5-9c58-988eafef0829 div.sk-estimator {font-family: monospace;background-color: #f0f8ff;border: 1px dotted black;border-radius: 0.25em;box-sizing: border-box;margin-bottom: 0.5em;}#sk-347b64f8-835c-43d5-9c58-988eafef0829 div.sk-estimator:hover {background-color: #d4ebff;}#sk-347b64f8-835c-43d5-9c58-988eafef0829 div.sk-parallel-item::after {content: \"\";width: 100%;border-bottom: 1px solid gray;flex-grow: 1;}#sk-347b64f8-835c-43d5-9c58-988eafef0829 div.sk-label:hover label.sk-toggleable__label {background-color: #d4ebff;}#sk-347b64f8-835c-43d5-9c58-988eafef0829 div.sk-serial::before {content: \"\";position: absolute;border-left: 1px solid gray;box-sizing: border-box;top: 2em;bottom: 0;left: 50%;}#sk-347b64f8-835c-43d5-9c58-988eafef0829 div.sk-serial {display: flex;flex-direction: column;align-items: center;background-color: white;padding-right: 0.2em;padding-left: 0.2em;}#sk-347b64f8-835c-43d5-9c58-988eafef0829 div.sk-item {z-index: 1;}#sk-347b64f8-835c-43d5-9c58-988eafef0829 div.sk-parallel {display: flex;align-items: stretch;justify-content: center;background-color: white;}#sk-347b64f8-835c-43d5-9c58-988eafef0829 div.sk-parallel::before {content: \"\";position: absolute;border-left: 1px solid gray;box-sizing: border-box;top: 2em;bottom: 0;left: 50%;}#sk-347b64f8-835c-43d5-9c58-988eafef0829 div.sk-parallel-item {display: flex;flex-direction: column;position: relative;background-color: white;}#sk-347b64f8-835c-43d5-9c58-988eafef0829 div.sk-parallel-item:first-child::after {align-self: flex-end;width: 50%;}#sk-347b64f8-835c-43d5-9c58-988eafef0829 div.sk-parallel-item:last-child::after {align-self: flex-start;width: 50%;}#sk-347b64f8-835c-43d5-9c58-988eafef0829 div.sk-parallel-item:only-child::after {width: 0;}#sk-347b64f8-835c-43d5-9c58-988eafef0829 div.sk-dashed-wrapped {border: 1px dashed gray;margin: 0 0.4em 0.5em 0.4em;box-sizing: border-box;padding-bottom: 0.4em;background-color: white;position: relative;}#sk-347b64f8-835c-43d5-9c58-988eafef0829 div.sk-label label {font-family: monospace;font-weight: bold;background-color: white;display: inline-block;line-height: 1.2em;}#sk-347b64f8-835c-43d5-9c58-988eafef0829 div.sk-label-container {position: relative;z-index: 2;text-align: center;}#sk-347b64f8-835c-43d5-9c58-988eafef0829 div.sk-container {/* jupyter's `normalize.less` sets `[hidden] { display: none; }` but bootstrap.min.css set `[hidden] { display: none !important; }` so we also need the `!important` here to be able to override the default hidden behavior on the sphinx rendered scikit-learn.org. See: https://github.com/scikit-learn/scikit-learn/issues/21755 */display: inline-block !important;position: relative;}#sk-347b64f8-835c-43d5-9c58-988eafef0829 div.sk-text-repr-fallback {display: none;}</style><div id=\"sk-347b64f8-835c-43d5-9c58-988eafef0829\" class=\"sk-top-container\"><div class=\"sk-text-repr-fallback\"><pre>ColumnTransformer(remainder=&#x27;passthrough&#x27;,\n",
              "                  transformers=[(&#x27;pipeline-1&#x27;,\n",
              "                                 Pipeline(steps=[(&#x27;simpleimputer&#x27;,\n",
              "                                                  SimpleImputer()),\n",
              "                                                 (&#x27;standardscaler&#x27;,\n",
              "                                                  StandardScaler())]),\n",
              "                                 &lt;sklearn.compose._column_transformer.make_column_selector object at 0x7f9ada3a35d0&gt;),\n",
              "                                (&#x27;pipeline-2&#x27;,\n",
              "                                 Pipeline(steps=[(&#x27;simpleimputer&#x27;,\n",
              "                                                  SimpleImputer(strategy=&#x27;most_frequent&#x27;)),\n",
              "                                                 (&#x27;onehotencoder&#x27;,\n",
              "                                                  OneHotEncoder(handle_unknown=&#x27;ignore&#x27;,\n",
              "                                                                sparse=False))]),\n",
              "                                 &lt;sklearn.compose._column_transformer.make_column_selector object at 0x7f9ada3a3950&gt;)])</pre><b>Please rerun this cell to show the HTML repr or trust the notebook.</b></div><div class=\"sk-container\" hidden><div class=\"sk-item sk-dashed-wrapped\"><div class=\"sk-label-container\"><div class=\"sk-label sk-toggleable\"><input class=\"sk-toggleable__control sk-hidden--visually\" id=\"933a5668-faae-42cd-89d7-48995993c172\" type=\"checkbox\" ><label for=\"933a5668-faae-42cd-89d7-48995993c172\" class=\"sk-toggleable__label sk-toggleable__label-arrow\">ColumnTransformer</label><div class=\"sk-toggleable__content\"><pre>ColumnTransformer(remainder=&#x27;passthrough&#x27;,\n",
              "                  transformers=[(&#x27;pipeline-1&#x27;,\n",
              "                                 Pipeline(steps=[(&#x27;simpleimputer&#x27;,\n",
              "                                                  SimpleImputer()),\n",
              "                                                 (&#x27;standardscaler&#x27;,\n",
              "                                                  StandardScaler())]),\n",
              "                                 &lt;sklearn.compose._column_transformer.make_column_selector object at 0x7f9ada3a35d0&gt;),\n",
              "                                (&#x27;pipeline-2&#x27;,\n",
              "                                 Pipeline(steps=[(&#x27;simpleimputer&#x27;,\n",
              "                                                  SimpleImputer(strategy=&#x27;most_frequent&#x27;)),\n",
              "                                                 (&#x27;onehotencoder&#x27;,\n",
              "                                                  OneHotEncoder(handle_unknown=&#x27;ignore&#x27;,\n",
              "                                                                sparse=False))]),\n",
              "                                 &lt;sklearn.compose._column_transformer.make_column_selector object at 0x7f9ada3a3950&gt;)])</pre></div></div></div><div class=\"sk-parallel\"><div class=\"sk-parallel-item\"><div class=\"sk-item\"><div class=\"sk-label-container\"><div class=\"sk-label sk-toggleable\"><input class=\"sk-toggleable__control sk-hidden--visually\" id=\"f7cd49c8-c15b-46de-97cb-9efd54be446b\" type=\"checkbox\" ><label for=\"f7cd49c8-c15b-46de-97cb-9efd54be446b\" class=\"sk-toggleable__label sk-toggleable__label-arrow\">pipeline-1</label><div class=\"sk-toggleable__content\"><pre>&lt;sklearn.compose._column_transformer.make_column_selector object at 0x7f9ada3a35d0&gt;</pre></div></div></div><div class=\"sk-serial\"><div class=\"sk-item\"><div class=\"sk-serial\"><div class=\"sk-item\"><div class=\"sk-estimator sk-toggleable\"><input class=\"sk-toggleable__control sk-hidden--visually\" id=\"4a06d296-c552-4d56-aa37-1ef8b6da7454\" type=\"checkbox\" ><label for=\"4a06d296-c552-4d56-aa37-1ef8b6da7454\" class=\"sk-toggleable__label sk-toggleable__label-arrow\">SimpleImputer</label><div class=\"sk-toggleable__content\"><pre>SimpleImputer()</pre></div></div></div><div class=\"sk-item\"><div class=\"sk-estimator sk-toggleable\"><input class=\"sk-toggleable__control sk-hidden--visually\" id=\"3cd5c272-aa01-4979-9680-d3500f69d247\" type=\"checkbox\" ><label for=\"3cd5c272-aa01-4979-9680-d3500f69d247\" class=\"sk-toggleable__label sk-toggleable__label-arrow\">StandardScaler</label><div class=\"sk-toggleable__content\"><pre>StandardScaler()</pre></div></div></div></div></div></div></div></div><div class=\"sk-parallel-item\"><div class=\"sk-item\"><div class=\"sk-label-container\"><div class=\"sk-label sk-toggleable\"><input class=\"sk-toggleable__control sk-hidden--visually\" id=\"05c66b54-7a3b-44a2-b12d-e2c59fa0ef6c\" type=\"checkbox\" ><label for=\"05c66b54-7a3b-44a2-b12d-e2c59fa0ef6c\" class=\"sk-toggleable__label sk-toggleable__label-arrow\">pipeline-2</label><div class=\"sk-toggleable__content\"><pre>&lt;sklearn.compose._column_transformer.make_column_selector object at 0x7f9ada3a3950&gt;</pre></div></div></div><div class=\"sk-serial\"><div class=\"sk-item\"><div class=\"sk-serial\"><div class=\"sk-item\"><div class=\"sk-estimator sk-toggleable\"><input class=\"sk-toggleable__control sk-hidden--visually\" id=\"faeb0d76-130c-48fb-88a0-9a365aa97a46\" type=\"checkbox\" ><label for=\"faeb0d76-130c-48fb-88a0-9a365aa97a46\" class=\"sk-toggleable__label sk-toggleable__label-arrow\">SimpleImputer</label><div class=\"sk-toggleable__content\"><pre>SimpleImputer(strategy=&#x27;most_frequent&#x27;)</pre></div></div></div><div class=\"sk-item\"><div class=\"sk-estimator sk-toggleable\"><input class=\"sk-toggleable__control sk-hidden--visually\" id=\"91d032a1-0edd-4645-bcec-8a800a21dbc5\" type=\"checkbox\" ><label for=\"91d032a1-0edd-4645-bcec-8a800a21dbc5\" class=\"sk-toggleable__label sk-toggleable__label-arrow\">OneHotEncoder</label><div class=\"sk-toggleable__content\"><pre>OneHotEncoder(handle_unknown=&#x27;ignore&#x27;, sparse=False)</pre></div></div></div></div></div></div></div></div><div class=\"sk-parallel-item\"><div class=\"sk-item\"><div class=\"sk-label-container\"><div class=\"sk-label sk-toggleable\"><input class=\"sk-toggleable__control sk-hidden--visually\" id=\"c2616b8e-cb65-48de-b0a9-35fdf3727901\" type=\"checkbox\" ><label for=\"c2616b8e-cb65-48de-b0a9-35fdf3727901\" class=\"sk-toggleable__label sk-toggleable__label-arrow\">remainder</label><div class=\"sk-toggleable__content\"><pre></pre></div></div></div><div class=\"sk-serial\"><div class=\"sk-item\"><div class=\"sk-estimator sk-toggleable\"><input class=\"sk-toggleable__control sk-hidden--visually\" id=\"f96a280e-e705-4555-9c51-903f24468f6f\" type=\"checkbox\" ><label for=\"f96a280e-e705-4555-9c51-903f24468f6f\" class=\"sk-toggleable__label sk-toggleable__label-arrow\">passthrough</label><div class=\"sk-toggleable__content\"><pre>passthrough</pre></div></div></div></div></div></div></div></div></div></div>"
            ],
            "text/plain": [
              "ColumnTransformer(remainder='passthrough',\n",
              "                  transformers=[('pipeline-1',\n",
              "                                 Pipeline(steps=[('simpleimputer',\n",
              "                                                  SimpleImputer()),\n",
              "                                                 ('standardscaler',\n",
              "                                                  StandardScaler())]),\n",
              "                                 <sklearn.compose._column_transformer.make_column_selector object at 0x7f9ada3a35d0>),\n",
              "                                ('pipeline-2',\n",
              "                                 Pipeline(steps=[('simpleimputer',\n",
              "                                                  SimpleImputer(strategy='most_frequent')),\n",
              "                                                 ('onehotencoder',\n",
              "                                                  OneHotEncoder(handle_unknown='ignore',\n",
              "                                                                sparse=False))]),\n",
              "                                 <sklearn.compose._column_transformer.make_column_selector object at 0x7f9ada3a3950>)])"
            ]
          },
          "metadata": {},
          "execution_count": 38
        }
      ]
    },
    {
      "cell_type": "code",
      "source": [
        "# fit\n",
        "column_transformer.fit(X_train)"
      ],
      "metadata": {
        "colab": {
          "base_uri": "https://localhost:8080/",
          "height": 152
        },
        "id": "NdCNEDMmqqYb",
        "outputId": "6db96ff5-3c66-4d15-9105-a92a1bbac253"
      },
      "execution_count": null,
      "outputs": [
        {
          "output_type": "execute_result",
          "data": {
            "text/html": [
              "<style>#sk-5f212819-15c1-4407-94fb-d65b53cc48d4 {color: black;background-color: white;}#sk-5f212819-15c1-4407-94fb-d65b53cc48d4 pre{padding: 0;}#sk-5f212819-15c1-4407-94fb-d65b53cc48d4 div.sk-toggleable {background-color: white;}#sk-5f212819-15c1-4407-94fb-d65b53cc48d4 label.sk-toggleable__label {cursor: pointer;display: block;width: 100%;margin-bottom: 0;padding: 0.3em;box-sizing: border-box;text-align: center;}#sk-5f212819-15c1-4407-94fb-d65b53cc48d4 label.sk-toggleable__label-arrow:before {content: \"▸\";float: left;margin-right: 0.25em;color: #696969;}#sk-5f212819-15c1-4407-94fb-d65b53cc48d4 label.sk-toggleable__label-arrow:hover:before {color: black;}#sk-5f212819-15c1-4407-94fb-d65b53cc48d4 div.sk-estimator:hover label.sk-toggleable__label-arrow:before {color: black;}#sk-5f212819-15c1-4407-94fb-d65b53cc48d4 div.sk-toggleable__content {max-height: 0;max-width: 0;overflow: hidden;text-align: left;background-color: #f0f8ff;}#sk-5f212819-15c1-4407-94fb-d65b53cc48d4 div.sk-toggleable__content pre {margin: 0.2em;color: black;border-radius: 0.25em;background-color: #f0f8ff;}#sk-5f212819-15c1-4407-94fb-d65b53cc48d4 input.sk-toggleable__control:checked~div.sk-toggleable__content {max-height: 200px;max-width: 100%;overflow: auto;}#sk-5f212819-15c1-4407-94fb-d65b53cc48d4 input.sk-toggleable__control:checked~label.sk-toggleable__label-arrow:before {content: \"▾\";}#sk-5f212819-15c1-4407-94fb-d65b53cc48d4 div.sk-estimator input.sk-toggleable__control:checked~label.sk-toggleable__label {background-color: #d4ebff;}#sk-5f212819-15c1-4407-94fb-d65b53cc48d4 div.sk-label input.sk-toggleable__control:checked~label.sk-toggleable__label {background-color: #d4ebff;}#sk-5f212819-15c1-4407-94fb-d65b53cc48d4 input.sk-hidden--visually {border: 0;clip: rect(1px 1px 1px 1px);clip: rect(1px, 1px, 1px, 1px);height: 1px;margin: -1px;overflow: hidden;padding: 0;position: absolute;width: 1px;}#sk-5f212819-15c1-4407-94fb-d65b53cc48d4 div.sk-estimator {font-family: monospace;background-color: #f0f8ff;border: 1px dotted black;border-radius: 0.25em;box-sizing: border-box;margin-bottom: 0.5em;}#sk-5f212819-15c1-4407-94fb-d65b53cc48d4 div.sk-estimator:hover {background-color: #d4ebff;}#sk-5f212819-15c1-4407-94fb-d65b53cc48d4 div.sk-parallel-item::after {content: \"\";width: 100%;border-bottom: 1px solid gray;flex-grow: 1;}#sk-5f212819-15c1-4407-94fb-d65b53cc48d4 div.sk-label:hover label.sk-toggleable__label {background-color: #d4ebff;}#sk-5f212819-15c1-4407-94fb-d65b53cc48d4 div.sk-serial::before {content: \"\";position: absolute;border-left: 1px solid gray;box-sizing: border-box;top: 2em;bottom: 0;left: 50%;}#sk-5f212819-15c1-4407-94fb-d65b53cc48d4 div.sk-serial {display: flex;flex-direction: column;align-items: center;background-color: white;padding-right: 0.2em;padding-left: 0.2em;}#sk-5f212819-15c1-4407-94fb-d65b53cc48d4 div.sk-item {z-index: 1;}#sk-5f212819-15c1-4407-94fb-d65b53cc48d4 div.sk-parallel {display: flex;align-items: stretch;justify-content: center;background-color: white;}#sk-5f212819-15c1-4407-94fb-d65b53cc48d4 div.sk-parallel::before {content: \"\";position: absolute;border-left: 1px solid gray;box-sizing: border-box;top: 2em;bottom: 0;left: 50%;}#sk-5f212819-15c1-4407-94fb-d65b53cc48d4 div.sk-parallel-item {display: flex;flex-direction: column;position: relative;background-color: white;}#sk-5f212819-15c1-4407-94fb-d65b53cc48d4 div.sk-parallel-item:first-child::after {align-self: flex-end;width: 50%;}#sk-5f212819-15c1-4407-94fb-d65b53cc48d4 div.sk-parallel-item:last-child::after {align-self: flex-start;width: 50%;}#sk-5f212819-15c1-4407-94fb-d65b53cc48d4 div.sk-parallel-item:only-child::after {width: 0;}#sk-5f212819-15c1-4407-94fb-d65b53cc48d4 div.sk-dashed-wrapped {border: 1px dashed gray;margin: 0 0.4em 0.5em 0.4em;box-sizing: border-box;padding-bottom: 0.4em;background-color: white;position: relative;}#sk-5f212819-15c1-4407-94fb-d65b53cc48d4 div.sk-label label {font-family: monospace;font-weight: bold;background-color: white;display: inline-block;line-height: 1.2em;}#sk-5f212819-15c1-4407-94fb-d65b53cc48d4 div.sk-label-container {position: relative;z-index: 2;text-align: center;}#sk-5f212819-15c1-4407-94fb-d65b53cc48d4 div.sk-container {/* jupyter's `normalize.less` sets `[hidden] { display: none; }` but bootstrap.min.css set `[hidden] { display: none !important; }` so we also need the `!important` here to be able to override the default hidden behavior on the sphinx rendered scikit-learn.org. See: https://github.com/scikit-learn/scikit-learn/issues/21755 */display: inline-block !important;position: relative;}#sk-5f212819-15c1-4407-94fb-d65b53cc48d4 div.sk-text-repr-fallback {display: none;}</style><div id=\"sk-5f212819-15c1-4407-94fb-d65b53cc48d4\" class=\"sk-top-container\"><div class=\"sk-text-repr-fallback\"><pre>ColumnTransformer(remainder=&#x27;passthrough&#x27;,\n",
              "                  transformers=[(&#x27;pipeline-1&#x27;,\n",
              "                                 Pipeline(steps=[(&#x27;simpleimputer&#x27;,\n",
              "                                                  SimpleImputer()),\n",
              "                                                 (&#x27;standardscaler&#x27;,\n",
              "                                                  StandardScaler())]),\n",
              "                                 &lt;sklearn.compose._column_transformer.make_column_selector object at 0x7f9ada3a35d0&gt;),\n",
              "                                (&#x27;pipeline-2&#x27;,\n",
              "                                 Pipeline(steps=[(&#x27;simpleimputer&#x27;,\n",
              "                                                  SimpleImputer(strategy=&#x27;most_frequent&#x27;)),\n",
              "                                                 (&#x27;onehotencoder&#x27;,\n",
              "                                                  OneHotEncoder(handle_unknown=&#x27;ignore&#x27;,\n",
              "                                                                sparse=False))]),\n",
              "                                 &lt;sklearn.compose._column_transformer.make_column_selector object at 0x7f9ada3a3950&gt;)])</pre><b>Please rerun this cell to show the HTML repr or trust the notebook.</b></div><div class=\"sk-container\" hidden><div class=\"sk-item sk-dashed-wrapped\"><div class=\"sk-label-container\"><div class=\"sk-label sk-toggleable\"><input class=\"sk-toggleable__control sk-hidden--visually\" id=\"68f34824-a1c2-47c0-bebe-b3f4ca3bf5f5\" type=\"checkbox\" ><label for=\"68f34824-a1c2-47c0-bebe-b3f4ca3bf5f5\" class=\"sk-toggleable__label sk-toggleable__label-arrow\">ColumnTransformer</label><div class=\"sk-toggleable__content\"><pre>ColumnTransformer(remainder=&#x27;passthrough&#x27;,\n",
              "                  transformers=[(&#x27;pipeline-1&#x27;,\n",
              "                                 Pipeline(steps=[(&#x27;simpleimputer&#x27;,\n",
              "                                                  SimpleImputer()),\n",
              "                                                 (&#x27;standardscaler&#x27;,\n",
              "                                                  StandardScaler())]),\n",
              "                                 &lt;sklearn.compose._column_transformer.make_column_selector object at 0x7f9ada3a35d0&gt;),\n",
              "                                (&#x27;pipeline-2&#x27;,\n",
              "                                 Pipeline(steps=[(&#x27;simpleimputer&#x27;,\n",
              "                                                  SimpleImputer(strategy=&#x27;most_frequent&#x27;)),\n",
              "                                                 (&#x27;onehotencoder&#x27;,\n",
              "                                                  OneHotEncoder(handle_unknown=&#x27;ignore&#x27;,\n",
              "                                                                sparse=False))]),\n",
              "                                 &lt;sklearn.compose._column_transformer.make_column_selector object at 0x7f9ada3a3950&gt;)])</pre></div></div></div><div class=\"sk-parallel\"><div class=\"sk-parallel-item\"><div class=\"sk-item\"><div class=\"sk-label-container\"><div class=\"sk-label sk-toggleable\"><input class=\"sk-toggleable__control sk-hidden--visually\" id=\"893e1abf-a78c-4c46-9e64-ed2b2fb17e03\" type=\"checkbox\" ><label for=\"893e1abf-a78c-4c46-9e64-ed2b2fb17e03\" class=\"sk-toggleable__label sk-toggleable__label-arrow\">pipeline-1</label><div class=\"sk-toggleable__content\"><pre>&lt;sklearn.compose._column_transformer.make_column_selector object at 0x7f9ada3a35d0&gt;</pre></div></div></div><div class=\"sk-serial\"><div class=\"sk-item\"><div class=\"sk-serial\"><div class=\"sk-item\"><div class=\"sk-estimator sk-toggleable\"><input class=\"sk-toggleable__control sk-hidden--visually\" id=\"b582e69d-8a60-491b-998b-7219cc4efd81\" type=\"checkbox\" ><label for=\"b582e69d-8a60-491b-998b-7219cc4efd81\" class=\"sk-toggleable__label sk-toggleable__label-arrow\">SimpleImputer</label><div class=\"sk-toggleable__content\"><pre>SimpleImputer()</pre></div></div></div><div class=\"sk-item\"><div class=\"sk-estimator sk-toggleable\"><input class=\"sk-toggleable__control sk-hidden--visually\" id=\"195669e1-c62d-46ae-a4c6-4b83871fab23\" type=\"checkbox\" ><label for=\"195669e1-c62d-46ae-a4c6-4b83871fab23\" class=\"sk-toggleable__label sk-toggleable__label-arrow\">StandardScaler</label><div class=\"sk-toggleable__content\"><pre>StandardScaler()</pre></div></div></div></div></div></div></div></div><div class=\"sk-parallel-item\"><div class=\"sk-item\"><div class=\"sk-label-container\"><div class=\"sk-label sk-toggleable\"><input class=\"sk-toggleable__control sk-hidden--visually\" id=\"9b415f85-1d34-48b7-93a7-f91a60055ebd\" type=\"checkbox\" ><label for=\"9b415f85-1d34-48b7-93a7-f91a60055ebd\" class=\"sk-toggleable__label sk-toggleable__label-arrow\">pipeline-2</label><div class=\"sk-toggleable__content\"><pre>&lt;sklearn.compose._column_transformer.make_column_selector object at 0x7f9ada3a3950&gt;</pre></div></div></div><div class=\"sk-serial\"><div class=\"sk-item\"><div class=\"sk-serial\"><div class=\"sk-item\"><div class=\"sk-estimator sk-toggleable\"><input class=\"sk-toggleable__control sk-hidden--visually\" id=\"e98fb088-ccfc-4ad7-aef9-348f91c92f97\" type=\"checkbox\" ><label for=\"e98fb088-ccfc-4ad7-aef9-348f91c92f97\" class=\"sk-toggleable__label sk-toggleable__label-arrow\">SimpleImputer</label><div class=\"sk-toggleable__content\"><pre>SimpleImputer(strategy=&#x27;most_frequent&#x27;)</pre></div></div></div><div class=\"sk-item\"><div class=\"sk-estimator sk-toggleable\"><input class=\"sk-toggleable__control sk-hidden--visually\" id=\"aca55832-739d-42dd-b033-a762f38c9a62\" type=\"checkbox\" ><label for=\"aca55832-739d-42dd-b033-a762f38c9a62\" class=\"sk-toggleable__label sk-toggleable__label-arrow\">OneHotEncoder</label><div class=\"sk-toggleable__content\"><pre>OneHotEncoder(handle_unknown=&#x27;ignore&#x27;, sparse=False)</pre></div></div></div></div></div></div></div></div><div class=\"sk-parallel-item\"><div class=\"sk-item\"><div class=\"sk-label-container\"><div class=\"sk-label sk-toggleable\"><input class=\"sk-toggleable__control sk-hidden--visually\" id=\"6877494b-be9c-4fe3-bfb1-deecd4ebfbe3\" type=\"checkbox\" ><label for=\"6877494b-be9c-4fe3-bfb1-deecd4ebfbe3\" class=\"sk-toggleable__label sk-toggleable__label-arrow\">remainder</label><div class=\"sk-toggleable__content\"><pre>[]</pre></div></div></div><div class=\"sk-serial\"><div class=\"sk-item\"><div class=\"sk-estimator sk-toggleable\"><input class=\"sk-toggleable__control sk-hidden--visually\" id=\"0bd7e54e-9337-40f8-8f65-2cf5ec7cc021\" type=\"checkbox\" ><label for=\"0bd7e54e-9337-40f8-8f65-2cf5ec7cc021\" class=\"sk-toggleable__label sk-toggleable__label-arrow\">passthrough</label><div class=\"sk-toggleable__content\"><pre>passthrough</pre></div></div></div></div></div></div></div></div></div></div>"
            ],
            "text/plain": [
              "ColumnTransformer(remainder='passthrough',\n",
              "                  transformers=[('pipeline-1',\n",
              "                                 Pipeline(steps=[('simpleimputer',\n",
              "                                                  SimpleImputer()),\n",
              "                                                 ('standardscaler',\n",
              "                                                  StandardScaler())]),\n",
              "                                 <sklearn.compose._column_transformer.make_column_selector object at 0x7f9ada3a35d0>),\n",
              "                                ('pipeline-2',\n",
              "                                 Pipeline(steps=[('simpleimputer',\n",
              "                                                  SimpleImputer(strategy='most_frequent')),\n",
              "                                                 ('onehotencoder',\n",
              "                                                  OneHotEncoder(handle_unknown='ignore',\n",
              "                                                                sparse=False))]),\n",
              "                                 <sklearn.compose._column_transformer.make_column_selector object at 0x7f9ada3a3950>)])"
            ]
          },
          "metadata": {},
          "execution_count": 39
        }
      ]
    },
    {
      "cell_type": "code",
      "source": [
        "# transform train and test\n",
        "X_train_processed = column_transformer.transform(X_train)\n",
        "X_test_processed = column_transformer.transform(X_test)"
      ],
      "metadata": {
        "id": "GNSz3y4-qrrG"
      },
      "execution_count": null,
      "outputs": []
    },
    {
      "cell_type": "code",
      "source": [
        "# Check for missing values and that data is scaled and one-hot encoded\n",
        "print(np.isnan(X_train_processed).sum().sum(), 'missing values in training data')\n",
        "print(np.isnan(X_test_processed).sum().sum(), 'missing values in testing data')\n",
        "print('\\n')\n",
        "print('All data in X_train processed are', X_train_processed.dtype)\n",
        "print('All data in X_test processed are', X_test_processed.dtype)\n",
        "print('\\n')\n",
        "print('shape of data is', X_train_processed.shape)\n",
        "print('\\n')\n",
        "X_train_processed"
      ],
      "metadata": {
        "colab": {
          "base_uri": "https://localhost:8080/"
        },
        "id": "4kJoR17vqzBN",
        "outputId": "96c61101-7506-468a-de00-a5f58a2059c1"
      },
      "execution_count": null,
      "outputs": [
        {
          "output_type": "stream",
          "name": "stdout",
          "text": [
            "0 missing values in training data\n",
            "0 missing values in testing data\n",
            "\n",
            "\n",
            "All data in X_train processed are float64\n",
            "All data in X_test processed are float64\n",
            "\n",
            "\n",
            "shape of data is (6392, 32)\n",
            "\n",
            "\n"
          ]
        },
        {
          "output_type": "execute_result",
          "data": {
            "text/plain": [
              "array([[ 0.81724868, -0.71277507,  1.82810922, ...,  0.        ,\n",
              "         1.        ,  0.        ],\n",
              "       [ 0.5563395 , -1.29105225,  0.60336888, ...,  0.        ,\n",
              "         1.        ,  0.        ],\n",
              "       [-0.13151196,  1.81331864,  0.24454056, ...,  1.        ,\n",
              "         0.        ,  0.        ],\n",
              "       ...,\n",
              "       [ 1.11373638, -0.92052713,  1.52302674, ...,  1.        ,\n",
              "         0.        ,  0.        ],\n",
              "       [ 1.76600931, -0.2277552 , -0.38377708, ...,  1.        ,\n",
              "         0.        ,  0.        ],\n",
              "       [ 0.81724868, -0.95867683, -0.73836105, ...,  1.        ,\n",
              "         0.        ,  0.        ]])"
            ]
          },
          "metadata": {},
          "execution_count": 41
        }
      ]
    },
    {
      "cell_type": "code",
      "source": [
        "# X_train_df = pd.DataFrame(X_train_processed)\n",
        "# X_train_df.head()"
      ],
      "metadata": {
        "id": "Ui3qixioq7HR"
      },
      "execution_count": null,
      "outputs": []
    },
    {
      "cell_type": "markdown",
      "source": [
        "**LINEAR REGRESSION MODEL**"
      ],
      "metadata": {
        "id": "QLm60kTXs5Sm"
      }
    },
    {
      "cell_type": "code",
      "source": [
        "reg = LinearRegression()\n",
        "reg.fit(X_train_processed, y_train)"
      ],
      "metadata": {
        "colab": {
          "base_uri": "https://localhost:8080/",
          "height": 75
        },
        "id": "p_K2DPVRs7Lo",
        "outputId": "3fbeee16-6489-4c1d-ce25-dd67c36e786c"
      },
      "execution_count": null,
      "outputs": [
        {
          "output_type": "execute_result",
          "data": {
            "text/html": [
              "<style>#sk-3b9551ee-298e-40e6-86d0-43760cdecd3a {color: black;background-color: white;}#sk-3b9551ee-298e-40e6-86d0-43760cdecd3a pre{padding: 0;}#sk-3b9551ee-298e-40e6-86d0-43760cdecd3a div.sk-toggleable {background-color: white;}#sk-3b9551ee-298e-40e6-86d0-43760cdecd3a label.sk-toggleable__label {cursor: pointer;display: block;width: 100%;margin-bottom: 0;padding: 0.3em;box-sizing: border-box;text-align: center;}#sk-3b9551ee-298e-40e6-86d0-43760cdecd3a label.sk-toggleable__label-arrow:before {content: \"▸\";float: left;margin-right: 0.25em;color: #696969;}#sk-3b9551ee-298e-40e6-86d0-43760cdecd3a label.sk-toggleable__label-arrow:hover:before {color: black;}#sk-3b9551ee-298e-40e6-86d0-43760cdecd3a div.sk-estimator:hover label.sk-toggleable__label-arrow:before {color: black;}#sk-3b9551ee-298e-40e6-86d0-43760cdecd3a div.sk-toggleable__content {max-height: 0;max-width: 0;overflow: hidden;text-align: left;background-color: #f0f8ff;}#sk-3b9551ee-298e-40e6-86d0-43760cdecd3a div.sk-toggleable__content pre {margin: 0.2em;color: black;border-radius: 0.25em;background-color: #f0f8ff;}#sk-3b9551ee-298e-40e6-86d0-43760cdecd3a input.sk-toggleable__control:checked~div.sk-toggleable__content {max-height: 200px;max-width: 100%;overflow: auto;}#sk-3b9551ee-298e-40e6-86d0-43760cdecd3a input.sk-toggleable__control:checked~label.sk-toggleable__label-arrow:before {content: \"▾\";}#sk-3b9551ee-298e-40e6-86d0-43760cdecd3a div.sk-estimator input.sk-toggleable__control:checked~label.sk-toggleable__label {background-color: #d4ebff;}#sk-3b9551ee-298e-40e6-86d0-43760cdecd3a div.sk-label input.sk-toggleable__control:checked~label.sk-toggleable__label {background-color: #d4ebff;}#sk-3b9551ee-298e-40e6-86d0-43760cdecd3a input.sk-hidden--visually {border: 0;clip: rect(1px 1px 1px 1px);clip: rect(1px, 1px, 1px, 1px);height: 1px;margin: -1px;overflow: hidden;padding: 0;position: absolute;width: 1px;}#sk-3b9551ee-298e-40e6-86d0-43760cdecd3a div.sk-estimator {font-family: monospace;background-color: #f0f8ff;border: 1px dotted black;border-radius: 0.25em;box-sizing: border-box;margin-bottom: 0.5em;}#sk-3b9551ee-298e-40e6-86d0-43760cdecd3a div.sk-estimator:hover {background-color: #d4ebff;}#sk-3b9551ee-298e-40e6-86d0-43760cdecd3a div.sk-parallel-item::after {content: \"\";width: 100%;border-bottom: 1px solid gray;flex-grow: 1;}#sk-3b9551ee-298e-40e6-86d0-43760cdecd3a div.sk-label:hover label.sk-toggleable__label {background-color: #d4ebff;}#sk-3b9551ee-298e-40e6-86d0-43760cdecd3a div.sk-serial::before {content: \"\";position: absolute;border-left: 1px solid gray;box-sizing: border-box;top: 2em;bottom: 0;left: 50%;}#sk-3b9551ee-298e-40e6-86d0-43760cdecd3a div.sk-serial {display: flex;flex-direction: column;align-items: center;background-color: white;padding-right: 0.2em;padding-left: 0.2em;}#sk-3b9551ee-298e-40e6-86d0-43760cdecd3a div.sk-item {z-index: 1;}#sk-3b9551ee-298e-40e6-86d0-43760cdecd3a div.sk-parallel {display: flex;align-items: stretch;justify-content: center;background-color: white;}#sk-3b9551ee-298e-40e6-86d0-43760cdecd3a div.sk-parallel::before {content: \"\";position: absolute;border-left: 1px solid gray;box-sizing: border-box;top: 2em;bottom: 0;left: 50%;}#sk-3b9551ee-298e-40e6-86d0-43760cdecd3a div.sk-parallel-item {display: flex;flex-direction: column;position: relative;background-color: white;}#sk-3b9551ee-298e-40e6-86d0-43760cdecd3a div.sk-parallel-item:first-child::after {align-self: flex-end;width: 50%;}#sk-3b9551ee-298e-40e6-86d0-43760cdecd3a div.sk-parallel-item:last-child::after {align-self: flex-start;width: 50%;}#sk-3b9551ee-298e-40e6-86d0-43760cdecd3a div.sk-parallel-item:only-child::after {width: 0;}#sk-3b9551ee-298e-40e6-86d0-43760cdecd3a div.sk-dashed-wrapped {border: 1px dashed gray;margin: 0 0.4em 0.5em 0.4em;box-sizing: border-box;padding-bottom: 0.4em;background-color: white;position: relative;}#sk-3b9551ee-298e-40e6-86d0-43760cdecd3a div.sk-label label {font-family: monospace;font-weight: bold;background-color: white;display: inline-block;line-height: 1.2em;}#sk-3b9551ee-298e-40e6-86d0-43760cdecd3a div.sk-label-container {position: relative;z-index: 2;text-align: center;}#sk-3b9551ee-298e-40e6-86d0-43760cdecd3a div.sk-container {/* jupyter's `normalize.less` sets `[hidden] { display: none; }` but bootstrap.min.css set `[hidden] { display: none !important; }` so we also need the `!important` here to be able to override the default hidden behavior on the sphinx rendered scikit-learn.org. See: https://github.com/scikit-learn/scikit-learn/issues/21755 */display: inline-block !important;position: relative;}#sk-3b9551ee-298e-40e6-86d0-43760cdecd3a div.sk-text-repr-fallback {display: none;}</style><div id=\"sk-3b9551ee-298e-40e6-86d0-43760cdecd3a\" class=\"sk-top-container\"><div class=\"sk-text-repr-fallback\"><pre>LinearRegression()</pre><b>Please rerun this cell to show the HTML repr or trust the notebook.</b></div><div class=\"sk-container\" hidden><div class=\"sk-item\"><div class=\"sk-estimator sk-toggleable\"><input class=\"sk-toggleable__control sk-hidden--visually\" id=\"a0ed4859-602f-4bfd-9d41-15d2533a56ab\" type=\"checkbox\" checked><label for=\"a0ed4859-602f-4bfd-9d41-15d2533a56ab\" class=\"sk-toggleable__label sk-toggleable__label-arrow\">LinearRegression</label><div class=\"sk-toggleable__content\"><pre>LinearRegression()</pre></div></div></div></div></div>"
            ],
            "text/plain": [
              "LinearRegression()"
            ]
          },
          "metadata": {},
          "execution_count": 73
        }
      ]
    },
    {
      "cell_type": "code",
      "source": [
        "#print (f'r2 score: {r2} mae score: {mae} mse score : {mse} The rmse score: {rmse}')\n",
        "def eval_model (true, pred):\n",
        "  r2 = r2_score(true, pred)\n",
        "  mae = mean_absolute_error(true, pred)\n",
        "  mse = mean_squared_error(true, pred)\n",
        "  rmse = np.sqrt(mse)\n",
        "  print(f' r2: {r2:,.2f},\\n mae: {mae:,.2f}, \\n mse: {mse:,.2f} \\n rmse:{rmse:,.2f}\\n')\n"
      ],
      "metadata": {
        "id": "yXdYVgZi5Z12"
      },
      "execution_count": null,
      "outputs": []
    },
    {
      "cell_type": "code",
      "source": [
        "train_preds = reg.predict(X_train_processed)\n",
        "test_preds = reg.predict(X_test_processed)"
      ],
      "metadata": {
        "id": "c2jO3FYf9_2E"
      },
      "execution_count": null,
      "outputs": []
    },
    {
      "cell_type": "code",
      "source": [
        "print('Train Evaluation Metric')\n",
        "Train_evaluation = eval_model(y_train, train_preds)\n"
      ],
      "metadata": {
        "colab": {
          "base_uri": "https://localhost:8080/"
        },
        "id": "xFwOBT5nBB1s",
        "outputId": "7fe1045c-3307-4274-b08a-d0a6344b4581"
      },
      "execution_count": null,
      "outputs": [
        {
          "output_type": "stream",
          "name": "stdout",
          "text": [
            "Train Evaluation Metric\n",
            " r2: 0.56,\n",
            " mae: 847.18, \n",
            " mse: 1,298,631.86 \n",
            " rmse:1,139.58\n",
            "\n"
          ]
        }
      ]
    },
    {
      "cell_type": "code",
      "source": [
        "print('Test Evaluation Metric')\n",
        "Test_evaluation = eval_model(y_test, test_preds)"
      ],
      "metadata": {
        "colab": {
          "base_uri": "https://localhost:8080/"
        },
        "id": "FYIsr77kr_NP",
        "outputId": "7ba1c6be-bd61-4c13-f0a2-8b895c894ac5"
      },
      "execution_count": null,
      "outputs": [
        {
          "output_type": "stream",
          "name": "stdout",
          "text": [
            "Test Evaluation Metric\n",
            " r2: 0.57,\n",
            " mae: 803.98, \n",
            " mse: 1,194,496.09 \n",
            " rmse:1,092.93\n",
            "\n"
          ]
        }
      ]
    },
    {
      "cell_type": "code",
      "source": [
        "# DECISION TREE"
      ],
      "metadata": {
        "id": "q2Ihqtz2BOaU"
      },
      "execution_count": null,
      "outputs": []
    },
    {
      "cell_type": "code",
      "source": [
        "max_depth_range = list(range(2, 15))\n",
        "r2 = []\n",
        "for depth in max_depth_range: \n",
        "  dec_tree = DecisionTreeRegressor(max_depth = depth, random_state=42)\n",
        "  dec_tree.fit(X_train_processed, y_train)\n",
        "  score = dec_tree.score(X_test_processed, y_test)\n",
        "  r2.append(score)"
      ],
      "metadata": {
        "id": "E20LhDyTCp8M"
      },
      "execution_count": null,
      "outputs": []
    },
    {
      "cell_type": "code",
      "source": [
        "plt.plot(max_depth_range, r2)\n",
        "plt.xlabel(\"max_depth\")\n",
        "plt.ylabel(\"R2\");"
      ],
      "metadata": {
        "colab": {
          "base_uri": "https://localhost:8080/",
          "height": 339
        },
        "id": "_WiRje4bDYvR",
        "outputId": "64cf2b58-9edf-46cc-8f0e-cf4ab56a5297"
      },
      "execution_count": null,
      "outputs": [
        {
          "output_type": "display_data",
          "data": {
            "image/png": "[encoded data removed]",
            "text/plain": [
              "<Figure size 1440x360 with 1 Axes>"
            ]
          },
          "metadata": {}
        }
      ]
    },
    {
      "cell_type": "code",
      "source": [
        "# graph shows that the max_depth of 5 will yeild the highest r2 value."
      ],
      "metadata": {
        "id": "yJJGhbUPDzQp"
      },
      "execution_count": null,
      "outputs": []
    },
    {
      "cell_type": "code",
      "source": [
        "dec_tree = DecisionTreeRegressor(max_depth =5, random_state = 42)\n",
        "dec_tree.fit(X_train_processed, y_train)"
      ],
      "metadata": {
        "colab": {
          "base_uri": "https://localhost:8080/",
          "height": 75
        },
        "id": "rZxCM50vD5_Z",
        "outputId": "c3e3fb99-52fe-460c-f268-c6e0ca52efd7"
      },
      "execution_count": null,
      "outputs": [
        {
          "output_type": "execute_result",
          "data": {
            "text/html": [
              "<style>#sk-2416b460-1c7d-49a8-bdcd-0c10b266ddc6 {color: black;background-color: white;}#sk-2416b460-1c7d-49a8-bdcd-0c10b266ddc6 pre{padding: 0;}#sk-2416b460-1c7d-49a8-bdcd-0c10b266ddc6 div.sk-toggleable {background-color: white;}#sk-2416b460-1c7d-49a8-bdcd-0c10b266ddc6 label.sk-toggleable__label {cursor: pointer;display: block;width: 100%;margin-bottom: 0;padding: 0.3em;box-sizing: border-box;text-align: center;}#sk-2416b460-1c7d-49a8-bdcd-0c10b266ddc6 label.sk-toggleable__label-arrow:before {content: \"▸\";float: left;margin-right: 0.25em;color: #696969;}#sk-2416b460-1c7d-49a8-bdcd-0c10b266ddc6 label.sk-toggleable__label-arrow:hover:before {color: black;}#sk-2416b460-1c7d-49a8-bdcd-0c10b266ddc6 div.sk-estimator:hover label.sk-toggleable__label-arrow:before {color: black;}#sk-2416b460-1c7d-49a8-bdcd-0c10b266ddc6 div.sk-toggleable__content {max-height: 0;max-width: 0;overflow: hidden;text-align: left;background-color: #f0f8ff;}#sk-2416b460-1c7d-49a8-bdcd-0c10b266ddc6 div.sk-toggleable__content pre {margin: 0.2em;color: black;border-radius: 0.25em;background-color: #f0f8ff;}#sk-2416b460-1c7d-49a8-bdcd-0c10b266ddc6 input.sk-toggleable__control:checked~div.sk-toggleable__content {max-height: 200px;max-width: 100%;overflow: auto;}#sk-2416b460-1c7d-49a8-bdcd-0c10b266ddc6 input.sk-toggleable__control:checked~label.sk-toggleable__label-arrow:before {content: \"▾\";}#sk-2416b460-1c7d-49a8-bdcd-0c10b266ddc6 div.sk-estimator input.sk-toggleable__control:checked~label.sk-toggleable__label {background-color: #d4ebff;}#sk-2416b460-1c7d-49a8-bdcd-0c10b266ddc6 div.sk-label input.sk-toggleable__control:checked~label.sk-toggleable__label {background-color: #d4ebff;}#sk-2416b460-1c7d-49a8-bdcd-0c10b266ddc6 input.sk-hidden--visually {border: 0;clip: rect(1px 1px 1px 1px);clip: rect(1px, 1px, 1px, 1px);height: 1px;margin: -1px;overflow: hidden;padding: 0;position: absolute;width: 1px;}#sk-2416b460-1c7d-49a8-bdcd-0c10b266ddc6 div.sk-estimator {font-family: monospace;background-color: #f0f8ff;border: 1px dotted black;border-radius: 0.25em;box-sizing: border-box;margin-bottom: 0.5em;}#sk-2416b460-1c7d-49a8-bdcd-0c10b266ddc6 div.sk-estimator:hover {background-color: #d4ebff;}#sk-2416b460-1c7d-49a8-bdcd-0c10b266ddc6 div.sk-parallel-item::after {content: \"\";width: 100%;border-bottom: 1px solid gray;flex-grow: 1;}#sk-2416b460-1c7d-49a8-bdcd-0c10b266ddc6 div.sk-label:hover label.sk-toggleable__label {background-color: #d4ebff;}#sk-2416b460-1c7d-49a8-bdcd-0c10b266ddc6 div.sk-serial::before {content: \"\";position: absolute;border-left: 1px solid gray;box-sizing: border-box;top: 2em;bottom: 0;left: 50%;}#sk-2416b460-1c7d-49a8-bdcd-0c10b266ddc6 div.sk-serial {display: flex;flex-direction: column;align-items: center;background-color: white;padding-right: 0.2em;padding-left: 0.2em;}#sk-2416b460-1c7d-49a8-bdcd-0c10b266ddc6 div.sk-item {z-index: 1;}#sk-2416b460-1c7d-49a8-bdcd-0c10b266ddc6 div.sk-parallel {display: flex;align-items: stretch;justify-content: center;background-color: white;}#sk-2416b460-1c7d-49a8-bdcd-0c10b266ddc6 div.sk-parallel::before {content: \"\";position: absolute;border-left: 1px solid gray;box-sizing: border-box;top: 2em;bottom: 0;left: 50%;}#sk-2416b460-1c7d-49a8-bdcd-0c10b266ddc6 div.sk-parallel-item {display: flex;flex-direction: column;position: relative;background-color: white;}#sk-2416b460-1c7d-49a8-bdcd-0c10b266ddc6 div.sk-parallel-item:first-child::after {align-self: flex-end;width: 50%;}#sk-2416b460-1c7d-49a8-bdcd-0c10b266ddc6 div.sk-parallel-item:last-child::after {align-self: flex-start;width: 50%;}#sk-2416b460-1c7d-49a8-bdcd-0c10b266ddc6 div.sk-parallel-item:only-child::after {width: 0;}#sk-2416b460-1c7d-49a8-bdcd-0c10b266ddc6 div.sk-dashed-wrapped {border: 1px dashed gray;margin: 0 0.4em 0.5em 0.4em;box-sizing: border-box;padding-bottom: 0.4em;background-color: white;position: relative;}#sk-2416b460-1c7d-49a8-bdcd-0c10b266ddc6 div.sk-label label {font-family: monospace;font-weight: bold;background-color: white;display: inline-block;line-height: 1.2em;}#sk-2416b460-1c7d-49a8-bdcd-0c10b266ddc6 div.sk-label-container {position: relative;z-index: 2;text-align: center;}#sk-2416b460-1c7d-49a8-bdcd-0c10b266ddc6 div.sk-container {/* jupyter's `normalize.less` sets `[hidden] { display: none; }` but bootstrap.min.css set `[hidden] { display: none !important; }` so we also need the `!important` here to be able to override the default hidden behavior on the sphinx rendered scikit-learn.org. See: https://github.com/scikit-learn/scikit-learn/issues/21755 */display: inline-block !important;position: relative;}#sk-2416b460-1c7d-49a8-bdcd-0c10b266ddc6 div.sk-text-repr-fallback {display: none;}</style><div id=\"sk-2416b460-1c7d-49a8-bdcd-0c10b266ddc6\" class=\"sk-top-container\"><div class=\"sk-text-repr-fallback\"><pre>DecisionTreeRegressor(max_depth=5, random_state=42)</pre><b>Please rerun this cell to show the HTML repr or trust the notebook.</b></div><div class=\"sk-container\" hidden><div class=\"sk-item\"><div class=\"sk-estimator sk-toggleable\"><input class=\"sk-toggleable__control sk-hidden--visually\" id=\"cc251ec0-a96e-4f77-ae56-d779f241287d\" type=\"checkbox\" checked><label for=\"cc251ec0-a96e-4f77-ae56-d779f241287d\" class=\"sk-toggleable__label sk-toggleable__label-arrow\">DecisionTreeRegressor</label><div class=\"sk-toggleable__content\"><pre>DecisionTreeRegressor(max_depth=5, random_state=42)</pre></div></div></div></div></div>"
            ],
            "text/plain": [
              "DecisionTreeRegressor(max_depth=5, random_state=42)"
            ]
          },
          "metadata": {},
          "execution_count": 51
        }
      ]
    },
    {
      "cell_type": "code",
      "source": [
        "# Instantiating prediction"
      ],
      "metadata": {
        "id": "0Ec1nGVmEXMs"
      },
      "execution_count": null,
      "outputs": []
    },
    {
      "cell_type": "code",
      "source": [
        "dec_train_preds = dec_tree.predict(X_train_processed)\n",
        "dec_test_preds = dec_tree.predict(X_test_processed)"
      ],
      "metadata": {
        "id": "dQ1w6ui4Y8P3"
      },
      "execution_count": null,
      "outputs": []
    },
    {
      "cell_type": "code",
      "source": [
        "print('Train Evaluation Metric')\n",
        "Train_evaluation = eval_model(y_train, dec_train_preds)\n"
      ],
      "metadata": {
        "colab": {
          "base_uri": "https://localhost:8080/"
        },
        "id": "stGWuNA-EZXn",
        "outputId": "70424baa-994c-441c-ee11-61815c5ea535"
      },
      "execution_count": null,
      "outputs": [
        {
          "output_type": "stream",
          "name": "stdout",
          "text": [
            "Train Evaluation Metric\n",
            " r2: 0.60,\n",
            " mae: 762.61, \n",
            " mse: 1,172,122.77 \n",
            " rmse:1,082.65\n",
            "\n"
          ]
        }
      ]
    },
    {
      "cell_type": "code",
      "source": [
        "print('Test Evaluation Metric')\n",
        "Test_evaluation = eval_model(y_test, dec_test_preds)"
      ],
      "metadata": {
        "colab": {
          "base_uri": "https://localhost:8080/"
        },
        "id": "KTWZYQgrsGTt",
        "outputId": "992e8851-2d88-42bf-d6aa-e4529f2dc091"
      },
      "execution_count": null,
      "outputs": [
        {
          "output_type": "stream",
          "name": "stdout",
          "text": [
            "Test Evaluation Metric\n",
            " r2: 0.59,\n",
            " mae: 738.32, \n",
            " mse: 1,118,185.97 \n",
            " rmse:1,057.44\n",
            "\n"
          ]
        }
      ]
    },
    {
      "cell_type": "code",
      "source": [
        "# BAGGED TREES"
      ],
      "metadata": {
        "id": "7KGzgmtbZUNC"
      },
      "execution_count": null,
      "outputs": []
    },
    {
      "cell_type": "code",
      "source": [
        "bagreg = BaggingRegressor(random_state=42)\n"
      ],
      "metadata": {
        "id": "f2i_joTMZWPc"
      },
      "execution_count": null,
      "outputs": []
    },
    {
      "cell_type": "code",
      "source": [
        "bagreg.fit(X_train_processed, y_train)\n",
        "r2_train = r2_score(y_train,train_preds)\n",
        "r2_test = r2_score(y_test,test_preds)"
      ],
      "metadata": {
        "id": "LtoMrOgVaFHo"
      },
      "execution_count": null,
      "outputs": []
    },
    {
      "cell_type": "code",
      "source": [
        "bagreg_train_preds = bagreg.predict(X_train_processed)\n",
        "bagreg_test_preds = bagreg.predict(X_test_processed)"
      ],
      "metadata": {
        "id": "4cPWxU3FaJNh"
      },
      "execution_count": null,
      "outputs": []
    },
    {
      "cell_type": "code",
      "source": [
        "print('Train Evaluation Metric')\n",
        "Train_evaluation = eval_model(y_train,bagreg_train_preds)\n"
      ],
      "metadata": {
        "colab": {
          "base_uri": "https://localhost:8080/"
        },
        "id": "VP02lhn5aByQ",
        "outputId": "f5b4799d-546e-465f-9694-5d1617c90085"
      },
      "execution_count": null,
      "outputs": [
        {
          "output_type": "stream",
          "name": "stdout",
          "text": [
            "Train Evaluation Metric\n",
            " r2: 0.92,\n",
            " mae: 321.38, \n",
            " mse: 243,322.81 \n",
            " rmse:493.28\n",
            "\n"
          ]
        }
      ]
    },
    {
      "cell_type": "code",
      "source": [
        "print('Test Evaluation Metric')\n",
        "Test_evaluation = eval_model(y_test,bagreg_test_preds)"
      ],
      "metadata": {
        "colab": {
          "base_uri": "https://localhost:8080/"
        },
        "id": "aFZ_jDZysLYG",
        "outputId": "b8ff44da-b2b7-467b-b5a4-28e016471fa5"
      },
      "execution_count": null,
      "outputs": [
        {
          "output_type": "stream",
          "name": "stdout",
          "text": [
            "Test Evaluation Metric\n",
            " r2: 0.53,\n",
            " mae: 784.24, \n",
            " mse: 1,299,723.08 \n",
            " rmse:1,140.05\n",
            "\n"
          ]
        }
      ]
    },
    {
      "cell_type": "code",
      "source": [
        "# RANDOM FOREST"
      ],
      "metadata": {
        "id": "uCq7iAmWahCr"
      },
      "execution_count": null,
      "outputs": []
    },
    {
      "cell_type": "code",
      "source": [
        "#Tuning the parameters for optimal results."
      ],
      "metadata": {
        "id": "imscelpiaj81"
      },
      "execution_count": null,
      "outputs": []
    },
    {
      "cell_type": "code",
      "source": [
        "max_depth_range =list(range(1,15))\n",
        "r2=[]\n",
        "for depth in max_depth_range:\n",
        "  Rf_tree =RandomForestRegressor(max_depth=depth, random_state = 42)\n",
        "  Rf_tree.fit(X_train_processed, y_train)\n",
        "  score =Rf_tree.score(X_test_processed, y_test)\n",
        "  r2.append(score)"
      ],
      "metadata": {
        "id": "tgnJDr-EayfT"
      },
      "execution_count": null,
      "outputs": []
    },
    {
      "cell_type": "code",
      "source": [
        "plt.plot(max_depth_range, r2)\n",
        "plt.xlabel('depth')\n",
        "plt.ylabel(\"r^2\");"
      ],
      "metadata": {
        "colab": {
          "base_uri": "https://localhost:8080/",
          "height": 339
        },
        "id": "JtlkvnCia7SG",
        "outputId": "ab22b33a-287d-4c2d-c6aa-ee321bc49596"
      },
      "execution_count": null,
      "outputs": [
        {
          "output_type": "display_data",
          "data": {
            "image/png": "[encoded data removed]",
            "text/plain": [
              "<Figure size 1440x360 with 1 Axes>"
            ]
          },
          "metadata": {}
        }
      ]
    },
    {
      "cell_type": "code",
      "source": [
        "n_estimators_range =list(range(50,100))\n",
        "r3 =[]\n",
        "for estimator in n_estimators_range:\n",
        "  Rf_tree =RandomForestRegressor(n_estimators = estimator, random_state = 42)\n",
        "  Rf_tree.fit(X_train_processed, y_train)\n",
        "  score =Rf_tree.score(X_test_processed, y_test)\n",
        "  r3.append(score)"
      ],
      "metadata": {
        "id": "SmdEcIu6brSh"
      },
      "execution_count": null,
      "outputs": []
    },
    {
      "cell_type": "code",
      "source": [
        "#The graph below shows 92, as the optimal value of n_estimators.\n",
        "plt.plot(n_estimators_range, r3)\n",
        "plt.xlabel('n estimator')\n",
        "plt.ylabel('r2_scores');"
      ],
      "metadata": {
        "colab": {
          "base_uri": "https://localhost:8080/",
          "height": 339
        },
        "id": "5USmQ7bDdYax",
        "outputId": "3465ca5d-f6ff-4847-fdfe-88d7f852904a"
      },
      "execution_count": null,
      "outputs": [
        {
          "output_type": "display_data",
          "data": {
            "image/png": "[encoded data removed]",
            "text/plain": [
              "<Figure size 1440x360 with 1 Axes>"
            ]
          },
          "metadata": {}
        }
      ]
    },
    {
      "cell_type": "code",
      "source": [
        "rf = RandomForestRegressor(max_depth=9,n_estimators=92 ,random_state = 42)"
      ],
      "metadata": {
        "id": "bqHcRNDAfSHk"
      },
      "execution_count": null,
      "outputs": []
    },
    {
      "cell_type": "code",
      "source": [
        "rf.fit(X_train_processed, y_train)"
      ],
      "metadata": {
        "colab": {
          "base_uri": "https://localhost:8080/",
          "height": 75
        },
        "id": "cO395cnnfTq3",
        "outputId": "a56a070e-1f22-4dce-cd3e-c21160bb81e6"
      },
      "execution_count": null,
      "outputs": [
        {
          "output_type": "execute_result",
          "data": {
            "text/html": [
              "<style>#sk-e0cb2cb8-abfd-43c9-950f-2775ab1d085e {color: black;background-color: white;}#sk-e0cb2cb8-abfd-43c9-950f-2775ab1d085e pre{padding: 0;}#sk-e0cb2cb8-abfd-43c9-950f-2775ab1d085e div.sk-toggleable {background-color: white;}#sk-e0cb2cb8-abfd-43c9-950f-2775ab1d085e label.sk-toggleable__label {cursor: pointer;display: block;width: 100%;margin-bottom: 0;padding: 0.3em;box-sizing: border-box;text-align: center;}#sk-e0cb2cb8-abfd-43c9-950f-2775ab1d085e label.sk-toggleable__label-arrow:before {content: \"▸\";float: left;margin-right: 0.25em;color: #696969;}#sk-e0cb2cb8-abfd-43c9-950f-2775ab1d085e label.sk-toggleable__label-arrow:hover:before {color: black;}#sk-e0cb2cb8-abfd-43c9-950f-2775ab1d085e div.sk-estimator:hover label.sk-toggleable__label-arrow:before {color: black;}#sk-e0cb2cb8-abfd-43c9-950f-2775ab1d085e div.sk-toggleable__content {max-height: 0;max-width: 0;overflow: hidden;text-align: left;background-color: #f0f8ff;}#sk-e0cb2cb8-abfd-43c9-950f-2775ab1d085e div.sk-toggleable__content pre {margin: 0.2em;color: black;border-radius: 0.25em;background-color: #f0f8ff;}#sk-e0cb2cb8-abfd-43c9-950f-2775ab1d085e input.sk-toggleable__control:checked~div.sk-toggleable__content {max-height: 200px;max-width: 100%;overflow: auto;}#sk-e0cb2cb8-abfd-43c9-950f-2775ab1d085e input.sk-toggleable__control:checked~label.sk-toggleable__label-arrow:before {content: \"▾\";}#sk-e0cb2cb8-abfd-43c9-950f-2775ab1d085e div.sk-estimator input.sk-toggleable__control:checked~label.sk-toggleable__label {background-color: #d4ebff;}#sk-e0cb2cb8-abfd-43c9-950f-2775ab1d085e div.sk-label input.sk-toggleable__control:checked~label.sk-toggleable__label {background-color: #d4ebff;}#sk-e0cb2cb8-abfd-43c9-950f-2775ab1d085e input.sk-hidden--visually {border: 0;clip: rect(1px 1px 1px 1px);clip: rect(1px, 1px, 1px, 1px);height: 1px;margin: -1px;overflow: hidden;padding: 0;position: absolute;width: 1px;}#sk-e0cb2cb8-abfd-43c9-950f-2775ab1d085e div.sk-estimator {font-family: monospace;background-color: #f0f8ff;border: 1px dotted black;border-radius: 0.25em;box-sizing: border-box;margin-bottom: 0.5em;}#sk-e0cb2cb8-abfd-43c9-950f-2775ab1d085e div.sk-estimator:hover {background-color: #d4ebff;}#sk-e0cb2cb8-abfd-43c9-950f-2775ab1d085e div.sk-parallel-item::after {content: \"\";width: 100%;border-bottom: 1px solid gray;flex-grow: 1;}#sk-e0cb2cb8-abfd-43c9-950f-2775ab1d085e div.sk-label:hover label.sk-toggleable__label {background-color: #d4ebff;}#sk-e0cb2cb8-abfd-43c9-950f-2775ab1d085e div.sk-serial::before {content: \"\";position: absolute;border-left: 1px solid gray;box-sizing: border-box;top: 2em;bottom: 0;left: 50%;}#sk-e0cb2cb8-abfd-43c9-950f-2775ab1d085e div.sk-serial {display: flex;flex-direction: column;align-items: center;background-color: white;padding-right: 0.2em;padding-left: 0.2em;}#sk-e0cb2cb8-abfd-43c9-950f-2775ab1d085e div.sk-item {z-index: 1;}#sk-e0cb2cb8-abfd-43c9-950f-2775ab1d085e div.sk-parallel {display: flex;align-items: stretch;justify-content: center;background-color: white;}#sk-e0cb2cb8-abfd-43c9-950f-2775ab1d085e div.sk-parallel::before {content: \"\";position: absolute;border-left: 1px solid gray;box-sizing: border-box;top: 2em;bottom: 0;left: 50%;}#sk-e0cb2cb8-abfd-43c9-950f-2775ab1d085e div.sk-parallel-item {display: flex;flex-direction: column;position: relative;background-color: white;}#sk-e0cb2cb8-abfd-43c9-950f-2775ab1d085e div.sk-parallel-item:first-child::after {align-self: flex-end;width: 50%;}#sk-e0cb2cb8-abfd-43c9-950f-2775ab1d085e div.sk-parallel-item:last-child::after {align-self: flex-start;width: 50%;}#sk-e0cb2cb8-abfd-43c9-950f-2775ab1d085e div.sk-parallel-item:only-child::after {width: 0;}#sk-e0cb2cb8-abfd-43c9-950f-2775ab1d085e div.sk-dashed-wrapped {border: 1px dashed gray;margin: 0 0.4em 0.5em 0.4em;box-sizing: border-box;padding-bottom: 0.4em;background-color: white;position: relative;}#sk-e0cb2cb8-abfd-43c9-950f-2775ab1d085e div.sk-label label {font-family: monospace;font-weight: bold;background-color: white;display: inline-block;line-height: 1.2em;}#sk-e0cb2cb8-abfd-43c9-950f-2775ab1d085e div.sk-label-container {position: relative;z-index: 2;text-align: center;}#sk-e0cb2cb8-abfd-43c9-950f-2775ab1d085e div.sk-container {/* jupyter's `normalize.less` sets `[hidden] { display: none; }` but bootstrap.min.css set `[hidden] { display: none !important; }` so we also need the `!important` here to be able to override the default hidden behavior on the sphinx rendered scikit-learn.org. See: https://github.com/scikit-learn/scikit-learn/issues/21755 */display: inline-block !important;position: relative;}#sk-e0cb2cb8-abfd-43c9-950f-2775ab1d085e div.sk-text-repr-fallback {display: none;}</style><div id=\"sk-e0cb2cb8-abfd-43c9-950f-2775ab1d085e\" class=\"sk-top-container\"><div class=\"sk-text-repr-fallback\"><pre>RandomForestRegressor(max_depth=9, n_estimators=92, random_state=42)</pre><b>Please rerun this cell to show the HTML repr or trust the notebook.</b></div><div class=\"sk-container\" hidden><div class=\"sk-item\"><div class=\"sk-estimator sk-toggleable\"><input class=\"sk-toggleable__control sk-hidden--visually\" id=\"e3f83025-dd96-41fd-9db3-9817754efce2\" type=\"checkbox\" checked><label for=\"e3f83025-dd96-41fd-9db3-9817754efce2\" class=\"sk-toggleable__label sk-toggleable__label-arrow\">RandomForestRegressor</label><div class=\"sk-toggleable__content\"><pre>RandomForestRegressor(max_depth=9, n_estimators=92, random_state=42)</pre></div></div></div></div></div>"
            ],
            "text/plain": [
              "RandomForestRegressor(max_depth=9, n_estimators=92, random_state=42)"
            ]
          },
          "metadata": {},
          "execution_count": 67
        }
      ]
    },
    {
      "cell_type": "code",
      "source": [
        "#Prediction of independent features(X)\n",
        "rf_train_preds =rf.predict(X_train_processed)\n",
        "rf_test_preds = rf.predict(X_test_processed)"
      ],
      "metadata": {
        "id": "Fz2Be_LEgsU0"
      },
      "execution_count": null,
      "outputs": []
    },
    {
      "cell_type": "code",
      "source": [
        "print('Train Evaluation Metric')\n",
        "Train_evaluation = eval_model(y_train,rf_train_preds)\n"
      ],
      "metadata": {
        "id": "AsTKESHTg3Gs",
        "outputId": "0250d5f4-0478-4c0d-d8d7-d2fe84be4a57",
        "colab": {
          "base_uri": "https://localhost:8080/"
        }
      },
      "execution_count": null,
      "outputs": [
        {
          "output_type": "stream",
          "name": "stdout",
          "text": [
            "Train Evaluation Metric\n",
            " r2: 0.69,\n",
            " mae: 675.10, \n",
            " mse: 911,266.83 \n",
            " rmse:954.60\n",
            "\n"
          ]
        }
      ]
    },
    {
      "cell_type": "code",
      "source": [
        "print('Test Evaluation Metric')\n",
        "Test_evaluation = eval_model(y_test,rf_test_preds)"
      ],
      "metadata": {
        "colab": {
          "base_uri": "https://localhost:8080/"
        },
        "id": "_RL6pZwCsPrW",
        "outputId": "c31413c3-f456-4539-d1e0-d13dd372aa1b"
      },
      "execution_count": null,
      "outputs": [
        {
          "output_type": "stream",
          "name": "stdout",
          "text": [
            "Test Evaluation Metric\n",
            " r2: 0.59,\n",
            " mae: 735.44, \n",
            " mse: 1,121,309.84 \n",
            " rmse:1,058.92\n",
            "\n"
          ]
        }
      ]
    }
  ]
}